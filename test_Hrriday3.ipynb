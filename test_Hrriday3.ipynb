{
 "cells": [
  {
   "cell_type": "code",
   "execution_count": 2,
   "metadata": {},
   "outputs": [],
   "source": [
    "from torch_geometric.data import Data\n",
    "import torch\n",
    "import numpy as np\n",
    "from torch_geometric.datasets import KarateClub, Planetoid\n",
    "import torch_geometric\n",
    "from torch_geometric.utils import subgraph\n",
    "from utils import *"
   ]
  },
  {
   "cell_type": "markdown",
   "metadata": {},
   "source": [
    "### Previous Work by Shubhajit Roy"
   ]
  },
  {
   "cell_type": "code",
   "execution_count": 63,
   "metadata": {},
   "outputs": [],
   "source": [
    "edge_index = torch.tensor([[3,5,6,2,4],[5,3,2,6,6]],dtype=torch.long)\n",
    "x = torch.tensor([[1,2,3],[4,5,6],[7,8,9],[10,11,12],[13,14,15],[1,33,4],[12, 4, 2]],dtype=torch.float)\n",
    "y = torch.tensor([0,1,0,1,0,0,1],dtype=torch.long)\n",
    "data = Data(x=x,edge_index=edge_index,y=y)"
   ]
  },
  {
   "cell_type": "code",
   "execution_count": 27,
   "metadata": {},
   "outputs": [
    {
     "data": {
      "image/png": "[encoded data removed]",
      "text/plain": [
       "<Figure size 500x500 with 1 Axes>"
      ]
     },
     "metadata": {},
     "output_type": "display_data"
    }
   ],
   "source": [
    "#convert graph to networkx\n",
    "import networkx as nx\n",
    "import matplotlib.pyplot as plt\n",
    "from torch_geometric.utils import to_networkx\n",
    "\n",
    "#convert to networkx with node attributes\n",
    "G = to_networkx(data, to_undirected=True)\n",
    "#plot\n",
    "plt.figure(figsize=(5,5))\n",
    "pos = nx.spring_layout(G)\n",
    "nx.draw(G,pos,node_size=10,node_color='lightblue',with_labels=True)\n",
    "plt.title('Graph')\n",
    "plt.show()\n"
   ]
  },
  {
   "cell_type": "code",
   "execution_count": 13,
   "metadata": {},
   "outputs": [],
   "source": [
    "from torch_geometric.utils import *\n",
    "\n",
    "H = subgraph(edge_index=data.edge_index, subset=[[1,2,4,6]], relabel_nodes=False)"
   ]
  },
  {
   "cell_type": "code",
   "execution_count": 14,
   "metadata": {},
   "outputs": [
    {
     "data": {
      "text/plain": [
       "tensor([[3, 5, 6, 2, 4],\n",
       "        [5, 3, 2, 6, 6]])"
      ]
     },
     "execution_count": 14,
     "metadata": {},
     "output_type": "execute_result"
    }
   ],
   "source": [
    "data.edge_index"
   ]
  },
  {
   "cell_type": "code",
   "execution_count": 15,
   "metadata": {},
   "outputs": [
    {
     "data": {
      "text/plain": [
       "(tensor([[6, 2, 4],\n",
       "         [2, 6, 6]]),\n",
       " None)"
      ]
     },
     "execution_count": 15,
     "metadata": {},
     "output_type": "execute_result"
    }
   ],
   "source": [
    "H"
   ]
  },
  {
   "cell_type": "code",
   "execution_count": 16,
   "metadata": {},
   "outputs": [
    {
     "data": {
      "text/plain": [
       "tensor([[ 1.,  2.,  3.],\n",
       "        [ 4.,  5.,  6.],\n",
       "        [ 7.,  8.,  9.],\n",
       "        [10., 11., 12.],\n",
       "        [13., 14., 15.],\n",
       "        [ 1., 33.,  4.],\n",
       "        [12.,  4.,  2.]])"
      ]
     },
     "execution_count": 16,
     "metadata": {},
     "output_type": "execute_result"
    }
   ],
   "source": [
    "data.x"
   ]
  },
  {
   "cell_type": "code",
   "execution_count": 17,
   "metadata": {},
   "outputs": [
    {
     "data": {
      "text/plain": [
       "tensor([[ 4.,  5.,  6.],\n",
       "        [ 7.,  8.,  9.],\n",
       "        [13., 14., 15.],\n",
       "        [12.,  4.,  2.]])"
      ]
     },
     "execution_count": 17,
     "metadata": {},
     "output_type": "execute_result"
    }
   ],
   "source": [
    "#create a new x tensor with node 1,2,4,6\n",
    "data.x[[1,2,4,6]]\n"
   ]
  },
  {
   "cell_type": "code",
   "execution_count": 18,
   "metadata": {},
   "outputs": [],
   "source": [
    "list_of_nodes = [1,2,4,6]\n",
    "#convert to numpy ndarray\n",
    "import numpy as np\n",
    "list_of_nodes = np.array(list_of_nodes)"
   ]
  },
  {
   "cell_type": "code",
   "execution_count": 19,
   "metadata": {},
   "outputs": [],
   "source": [
    "coarsen_node = 6"
   ]
  },
  {
   "cell_type": "code",
   "execution_count": 20,
   "metadata": {},
   "outputs": [
    {
     "data": {
      "text/plain": [
       "array([ 7,  8, 10, 12])"
      ]
     },
     "execution_count": 20,
     "metadata": {},
     "output_type": "execute_result"
    }
   ],
   "source": [
    "list_of_nodes+coarsen_node"
   ]
  },
  {
   "cell_type": "code",
   "execution_count": 21,
   "metadata": {},
   "outputs": [],
   "source": [
    "subgraph_edge_index = subgraph(edge_index=data.edge_index, subset=torch.tensor(list_of_nodes), relabel_nodes=True)"
   ]
  },
  {
   "cell_type": "code",
   "execution_count": 22,
   "metadata": {},
   "outputs": [],
   "source": [
    "M = Data(x=data.x[list_of_nodes],edge_index=subgraph_edge_index[0], y=data.y[list_of_nodes], mapping={int(value): i for i, value in enumerate(list_of_nodes)})"
   ]
  },
  {
   "cell_type": "code",
   "execution_count": 23,
   "metadata": {},
   "outputs": [
    {
     "data": {
      "text/plain": [
       "4"
      ]
     },
     "execution_count": 23,
     "metadata": {},
     "output_type": "execute_result"
    }
   ],
   "source": [
    "M.num_nodes"
   ]
  },
  {
   "cell_type": "code",
   "execution_count": 24,
   "metadata": {},
   "outputs": [
    {
     "data": {
      "text/plain": [
       "(tensor([[3, 1, 2],\n",
       "         [1, 3, 3]]),\n",
       " {1: 0, 2: 1, 4: 2, 6: 3})"
      ]
     },
     "execution_count": 24,
     "metadata": {},
     "output_type": "execute_result"
    }
   ],
   "source": [
    "M.edge_index, M.mapping"
   ]
  },
  {
   "cell_type": "code",
   "execution_count": 25,
   "metadata": {},
   "outputs": [
    {
     "name": "stdout",
     "output_type": "stream",
     "text": [
      "1 0\n",
      "2 1\n",
      "4 2\n",
      "6 3\n"
     ]
    }
   ],
   "source": [
    "for key, value in M.mapping.items():\n",
    "    print(key, value)"
   ]
  },
  {
   "cell_type": "code",
   "execution_count": 1,
   "metadata": {},
   "outputs": [
    {
     "data": {
      "text/plain": [
       "(torch.Size([0, 7]), tensor([], size=(0, 7)))"
      ]
     },
     "execution_count": 1,
     "metadata": {},
     "output_type": "execute_result"
    }
   ],
   "source": [
    "import torch\n",
    "A = torch.rand(0,7)\n",
    "A.shape, A"
   ]
  },
  {
   "cell_type": "markdown",
   "metadata": {},
   "source": [
    "### Train Val Test Split for Original Graph (Custom Function to split data, *Using Older Coarsening Function*)"
   ]
  },
  {
   "cell_type": "code",
   "execution_count": 4,
   "metadata": {},
   "outputs": [],
   "source": [
    "def split_data(graph: Data, train_size: float, val_size: float, seed: float = 42):\n",
    "    \"\"\"\n",
    "    Function that returns the train, validation and test graphs for a given input graph.\n",
    "    \n",
    "    Parameters\n",
    "    ---\n",
    "    graph: torch_geometric.data.Data\n",
    "        `torch_geometric.data.Data` type graph with node-feature matrix `x`, `edge_index` and labels `y`\n",
    "    \n",
    "    train_size: float\n",
    "        Portion of the entire graph reserved for training.\n",
    "\n",
    "    val_size: float\n",
    "        Portion of the training graph reserved for validation.\n",
    "    \n",
    "    seed: float\n",
    "        Random seed for reproducibility of results.\n",
    "\n",
    "    Returns\n",
    "    ---\n",
    "    (`train_subgraph`, `val_subgraph`, `test_subgraph`):\n",
    "        Desired subgraphs with corresponding `x`, `edge_index`, `y` and `orig_nodes`. Additionally, a `mapping` dictionary {relabeled_node: orig_node} is added.\n",
    "\n",
    "    NOTE\n",
    "    ---\n",
    "    `edge_index` is composed of `orig_nodes` and NOT relabeled_node\n",
    "    \"\"\"\n",
    "    np.random.seed(seed)\n",
    "    unique_nodes = set(graph.edge_index[0].numpy())\n",
    "    shuffled_unique_nodes = np.random.choice(list(unique_nodes), size = len(unique_nodes), replace = False)\n",
    "    train_nodes = shuffled_unique_nodes[:int(len(unique_nodes)*(train_size*(1-val_size)))]\n",
    "    val_nodes = shuffled_unique_nodes[int(len(unique_nodes)*(train_size*(1-val_size))):int(len(unique_nodes)*(train_size))]\n",
    "    test_nodes = shuffled_unique_nodes[int(len(unique_nodes)*(train_size)):]\n",
    "    # print(unique_nodes)\n",
    "    # print(torch.tensor(train_nodes), torch.tensor(val_nodes), torch.tensor(test_nodes))\n",
    "    \n",
    "    train_edge_index = subgraph(subset = torch.tensor(train_nodes), edge_index = graph.edge_index)[0] # relabel_nodes = False\n",
    "    val_edge_index = subgraph(subset = torch.tensor(val_nodes), edge_index = graph.edge_index)[0] # relabel_nodes = False\n",
    "    test_edge_index = subgraph(subset = torch.tensor(test_nodes), edge_index = graph.edge_index)[0] # relabel_nodes = False\n",
    "\n",
    "    train_subgraph = Data(x = graph.x[train_nodes], edge_index = train_edge_index, y = graph.y[train_nodes], orig_nodes = torch.tensor(train_nodes)) # mapping={i:value for i, value in enumerate(train_nodes)}\n",
    "    val_subgraph = Data(x = graph.x[val_nodes], edge_index = val_edge_index, y = graph.y[val_nodes], orig_nodes = torch.tensor(val_nodes)) #  mapping={i:value for i, value in enumerate(val_nodes)}\n",
    "    test_subgraph = Data(x = graph.x[test_nodes], edge_index = test_edge_index, y = graph.y[test_nodes], orig_nodes = torch.tensor(test_nodes)) # , mapping={i:value for i, value in enumerate(test_nodes)}\n",
    "\n",
    "    return (train_subgraph, val_subgraph, test_subgraph)"
   ]
  },
  {
   "cell_type": "code",
   "execution_count": 3,
   "metadata": {},
   "outputs": [],
   "source": [
    "dataset = Planetoid(\"./dataset\", name=\"cora\")\n",
    "data = dataset[0]\n",
    "train, val, test = split_data(data, 0.8, 0.3)"
   ]
  },
  {
   "cell_type": "code",
   "execution_count": 4,
   "metadata": {},
   "outputs": [
    {
     "data": {
      "text/plain": [
       "(1516, 650, 542)"
      ]
     },
     "execution_count": 4,
     "metadata": {},
     "output_type": "execute_result"
    }
   ],
   "source": [
    "len(train.x), len(val.x), len(test.x)"
   ]
  },
  {
   "cell_type": "markdown",
   "metadata": {},
   "source": [
    "Independently coarsening each of the tran, val and test sets (`COARSENING RATIO` = 0.7 AND `COARSENING METHODS` = \"Variation Neighborhoods\" ARE SAME ACCROSS ALL THE SETS)"
   ]
  },
  {
   "cell_type": "code",
   "execution_count": 5,
   "metadata": {},
   "outputs": [
    {
     "name": "stdout",
     "output_type": "stream",
     "text": [
      "Data Verfication: Data(x=[1516, 1433], edge_index=[2, 3244], y=[1516], orig_nodes=[1516])\n"
     ]
    },
    {
     "name": "stderr",
     "output_type": "stream",
     "text": [
      "f:\\D\\Python\\IITGN\\Graph Coarsening - Summer of GNN\\CoPart-GNN\\graph_coarsening\\coarsening_utils.py:102: RuntimeWarning: invalid value encountered in power\n",
      "  dinvsqrt = d ** (-1 / 2)\n",
      "f:\\D\\Python\\.venv\\Lib\\site-packages\\scipy\\sparse\\linalg\\_eigen\\arpack\\arpack.py:1600: RuntimeWarning: k >= N for N * N square matrix. Attempting to use scipy.linalg.eigh instead.\n",
      "  warnings.warn(\"k >= N for N * N square matrix. \"\n"
     ]
    },
    {
     "name": "stdout",
     "output_type": "stream",
     "text": [
      "Data Verfication: Data(x=[650, 1433], edge_index=[2, 638], y=[650], orig_nodes=[650])\n",
      "Data Verfication: Data(x=[542, 1433], edge_index=[2, 394], y=[542], orig_nodes=[542])\n"
     ]
    }
   ],
   "source": [
    "# For Training Set\n",
    "train_num_features, train_num_classes, train_candidate, train_C_list, train_Gc_list, train_map_list = coarsening(dataset='test.ipynb', coarsening_ratio=0.7, coarsening_method=\"variation_neighborhoods\", Dataset=train)\n",
    "# For Validation Set\n",
    "val_num_features, val_num_classes, val_candidate, val_C_list, val_Gc_list, val_map_list = coarsening(dataset='test.ipynb', coarsening_ratio=0.7, coarsening_method=\"variation_neighborhoods\", Dataset=val)\n",
    "# For Testing  Set\n",
    "test_num_features, test_num_classes, test_candidate, test_C_list, test_Gc_list, test_map_list = coarsening(dataset='test.ipynb', coarsening_ratio=0.7, coarsening_method=\"variation_neighborhoods\", Dataset=test)"
   ]
  },
  {
   "cell_type": "code",
   "execution_count": 6,
   "metadata": {},
   "outputs": [
    {
     "name": "stdout",
     "output_type": "stream",
     "text": [
      "\n",
      "    -----------------------------\n",
      "    Num of Features accross sets:\n",
      "    Train:  1433\n",
      "    Val:    1433\n",
      "    Test:   1433\n",
      "    -----------------------------\n",
      "    Num of classes accross sets:\n",
      "    Train:  7\n",
      "    Val:    7\n",
      "    Test:   7\n",
      "    -----------------------------\n",
      "    Num of disconnected components accross sets:\n",
      "    Train:  1066 or 1066\n",
      "    Val:    635   or 635\n",
      "    Test:   539  or 539\n",
      "    -----------------------------\n",
      "    Num of nodes in original sets v/s metanodes in coarsened set:\n",
      "    Train:  1516  v/s 1288\n",
      "    Val:    650    v/s 650    \n",
      "    Test:   542   v/s 542\n",
      "    \n"
     ]
    }
   ],
   "source": [
    "print(f'''\n",
    "    -----------------------------\n",
    "    Num of Features accross sets:\n",
    "    Train:  {train_num_features}\n",
    "    Val:    {val_num_features}\n",
    "    Test:   {test_num_features}\n",
    "    -----------------------------\n",
    "    Num of classes accross sets:\n",
    "    Train:  {train_num_classes}\n",
    "    Val:    {val_num_classes}\n",
    "    Test:   {test_num_classes}\n",
    "    -----------------------------\n",
    "    Num of disconnected components accross sets:\n",
    "    Train:  {len(train_map_list)} or {len(train_candidate)}\n",
    "    Val:    {len(val_map_list)}   or {len(val_candidate)}\n",
    "    Test:   {len(test_map_list)}  or {len(test_candidate)}\n",
    "    -----------------------------\n",
    "    Num of nodes in original sets v/s metanodes in coarsened set:\n",
    "    Train:  {len(train.x)}  v/s {sum([len(component.keys()) for component in train_map_list])}\n",
    "    Val:    {len(val.x)}    v/s {sum([len(component.keys()) for component in val_map_list])}    \n",
    "    Test:   {len(test.x)}   v/s {sum([len(component.keys()) for component in test_map_list])}\n",
    "    ''')"
   ]
  },
  {
   "cell_type": "markdown",
   "metadata": {},
   "source": [
    "↑↑↑↑↑ COMMENT ↑↑↑↑↑ <br>\n",
    "NO COARSENING OCCURRED IN `val` and `test` sets because all the nodes nodes are completely disconnected (for the particular random seed)"
   ]
  },
  {
   "cell_type": "markdown",
   "metadata": {},
   "source": [
    "Normal Use (`COARSENING RATIO` = 0.7 and `COARSENING METHOD` = Variation Neighborhoods)"
   ]
  },
  {
   "cell_type": "code",
   "execution_count": 7,
   "metadata": {},
   "outputs": [
    {
     "name": "stdout",
     "output_type": "stream",
     "text": [
      "Data Verfication: Data(x=[2708, 1433], edge_index=[2, 10556], y=[2708], train_mask=[2708], val_mask=[2708], test_mask=[2708])\n"
     ]
    }
   ],
   "source": [
    "num_features, num_classes, candidate, C_list, Gc_list, map_list = coarsening(dataset = \"cora\", coarsening_ratio=0.7, coarsening_method=\"variation_neighborhoods\", Dataset=None)"
   ]
  },
  {
   "cell_type": "code",
   "execution_count": 9,
   "metadata": {},
   "outputs": [
    {
     "name": "stdout",
     "output_type": "stream",
     "text": [
      "\n",
      "    -----------------------------\n",
      "    Num of Features accross sets:   1433\n",
      "    -----------------------------\n",
      "    Num of classes accross sets:    7\n",
      "    -----------------------------\n",
      "    Num of disconnected components accross sets:    78 or 78\n",
      "    -----------------------------\n",
      "    Num of nodes in original sets v/s metanodes in coarsened set: 2708 v/s 927\n",
      "    \n"
     ]
    }
   ],
   "source": [
    "print(f'''\n",
    "    -----------------------------\n",
    "    Num of Features accross sets:   {num_features}\n",
    "    -----------------------------\n",
    "    Num of classes accross sets:    {num_classes}\n",
    "    -----------------------------\n",
    "    Num of disconnected components accross sets:    {len(candidate)} or {len(map_list)}\n",
    "    -----------------------------\n",
    "    Num of nodes in original sets v/s metanodes in coarsened set: {len(Planetoid(\"./dataset\", 'cora')[0].x)} v/s {sum([len(component.keys()) for component in map_list])}\n",
    "    ''')"
   ]
  },
  {
   "cell_type": "markdown",
   "metadata": {},
   "source": [
    "Verification"
   ]
  },
  {
   "cell_type": "code",
   "execution_count": 16,
   "metadata": {},
   "outputs": [
    {
     "name": "stdout",
     "output_type": "stream",
     "text": [
      "Number of original nodes in the set: 542\n"
     ]
    }
   ],
   "source": [
    "nodes = []\n",
    "for idx, component in enumerate(test_map_list): # Vary the obtained map_list: `train_map_list`, `val_map_list`, `test_map_list`\n",
    "    # print(f\"{idx} -> {len(component.keys())}\")\n",
    "    for k,v in component.items():\n",
    "        nodes.extend(v)\n",
    "print(f\"Number of original nodes in the set: {len(set(nodes))}\")"
   ]
  },
  {
   "cell_type": "markdown",
   "metadata": {},
   "source": [
    "### Train Val Test Split for Original Graph (Custome Function to split data, *Using New Coarsening Function*)"
   ]
  },
  {
   "cell_type": "code",
   "execution_count": 3,
   "metadata": {},
   "outputs": [],
   "source": [
    "def split_data(graph: Data, train_size: float, val_size: float, seed: float = 42):\n",
    "    \"\"\"\n",
    "    Function that returns the train, validation and test graphs for a given input graph.\n",
    "    \n",
    "    Parameters\n",
    "    ---\n",
    "    graph: torch_geometric.data.Data\n",
    "        `torch_geometric.data.Data` type graph with node-feature matrix `x`, `edge_index` and labels `y`\n",
    "    \n",
    "    train_size: float\n",
    "        Portion of the entire graph reserved for training.\n",
    "\n",
    "    val_size: float\n",
    "        Portion of the training graph reserved for validation.\n",
    "    \n",
    "    seed: float\n",
    "        Random seed for reproducibility of results.\n",
    "\n",
    "    Returns\n",
    "    ---\n",
    "    (`train_subgraph`, `val_subgraph`, `test_subgraph`):\n",
    "        Desired subgraphs with corresponding `x`, `edge_index`, `y` and `orig_nodes`. Additionally, a `mapping` dictionary {relabeled_node: orig_node} is added.\n",
    "\n",
    "    NOTE\n",
    "    ---\n",
    "    `edge_index` is composed of `orig_nodes` and NOT relabeled_node\n",
    "    \"\"\"\n",
    "    np.random.seed(seed)\n",
    "    unique_nodes = set(graph.edge_index[0].numpy())\n",
    "    shuffled_unique_nodes = np.random.choice(list(unique_nodes), size = len(unique_nodes), replace = False)\n",
    "    train_nodes = shuffled_unique_nodes[:int(len(unique_nodes)*(train_size*(1-val_size)))]\n",
    "    val_nodes = shuffled_unique_nodes[int(len(unique_nodes)*(train_size*(1-val_size))):int(len(unique_nodes)*(train_size))]\n",
    "    test_nodes = shuffled_unique_nodes[int(len(unique_nodes)*(train_size)):]\n",
    "    # print(unique_nodes)\n",
    "    # print(torch.tensor(train_nodes), torch.tensor(val_nodes), torch.tensor(test_nodes))\n",
    "    \n",
    "    train_edge_index = subgraph(subset = torch.tensor(train_nodes), edge_index = graph.edge_index)[0] # relabel_nodes = False\n",
    "    val_edge_index = subgraph(subset = torch.tensor(val_nodes), edge_index = graph.edge_index)[0] # relabel_nodes = False\n",
    "    test_edge_index = subgraph(subset = torch.tensor(test_nodes), edge_index = graph.edge_index)[0] # relabel_nodes = False\n",
    "\n",
    "    train_subgraph = Data(x = graph.x[train_nodes], edge_index = train_edge_index, y = graph.y[train_nodes], orig_nodes = torch.tensor(train_nodes)) # mapping={i:value for i, value in enumerate(train_nodes)}\n",
    "    val_subgraph = Data(x = graph.x[val_nodes], edge_index = val_edge_index, y = graph.y[val_nodes], orig_nodes = torch.tensor(val_nodes)) #  mapping={i:value for i, value in enumerate(val_nodes)}\n",
    "    test_subgraph = Data(x = graph.x[test_nodes], edge_index = test_edge_index, y = graph.y[test_nodes], orig_nodes = torch.tensor(test_nodes)) # , mapping={i:value for i, value in enumerate(test_nodes)}\n",
    "\n",
    "    return (train_subgraph, val_subgraph, test_subgraph)"
   ]
  },
  {
   "cell_type": "code",
   "execution_count": 4,
   "metadata": {},
   "outputs": [],
   "source": [
    "dataset = Planetoid(\"./dataset\", name=\"cora\")\n",
    "data = dataset[0]\n",
    "train, val, test = split_data(data, 0.8, 0.3)"
   ]
  },
  {
   "cell_type": "code",
   "execution_count": 5,
   "metadata": {},
   "outputs": [
    {
     "data": {
      "text/plain": [
       "(1516, 650, 542)"
      ]
     },
     "execution_count": 5,
     "metadata": {},
     "output_type": "execute_result"
    }
   ],
   "source": [
    "len(train.x), len(val.x), len(test.x)"
   ]
  },
  {
   "cell_type": "markdown",
   "metadata": {},
   "source": [
    "Independently coarsening each of the tran, val and test sets (`COARSENING RATIO` = 0.7 AND `COARSENING METHODS` = \"Variation Neighborhoods\" ARE SAME ACCROSS ALL THE SETS)"
   ]
  },
  {
   "cell_type": "code",
   "execution_count": 6,
   "metadata": {},
   "outputs": [
    {
     "ename": "TypeError",
     "evalue": "coarsening() missing 1 required positional argument: 'args'",
     "output_type": "error",
     "traceback": [
      "\u001b[1;31m---------------------------------------------------------------------------\u001b[0m",
      "\u001b[1;31mTypeError\u001b[0m                                 Traceback (most recent call last)",
      "Cell \u001b[1;32mIn[6], line 2\u001b[0m\n\u001b[0;32m      1\u001b[0m \u001b[38;5;66;03m# For Training Set\u001b[39;00m\n\u001b[1;32m----> 2\u001b[0m train_num_features, train_num_classes, train_candidate, train_C_list, train_Gc_list, train_subgraph_list \u001b[38;5;241m=\u001b[39m \u001b[43mcoarsening\u001b[49m\u001b[43m(\u001b[49m\u001b[43mdataset\u001b[49m\u001b[38;5;241;43m=\u001b[39;49m\u001b[38;5;124;43m'\u001b[39;49m\u001b[38;5;124;43mtest.ipynb\u001b[39;49m\u001b[38;5;124;43m'\u001b[39;49m\u001b[43m,\u001b[49m\u001b[43m \u001b[49m\u001b[43mcoarsening_ratio\u001b[49m\u001b[38;5;241;43m=\u001b[39;49m\u001b[38;5;241;43m0.7\u001b[39;49m\u001b[43m,\u001b[49m\u001b[43m \u001b[49m\u001b[43mcoarsening_method\u001b[49m\u001b[38;5;241;43m=\u001b[39;49m\u001b[38;5;124;43m\"\u001b[39;49m\u001b[38;5;124;43mvariation_neighborhoods\u001b[39;49m\u001b[38;5;124;43m\"\u001b[39;49m\u001b[43m,\u001b[49m\u001b[43m \u001b[49m\u001b[43mDataset\u001b[49m\u001b[38;5;241;43m=\u001b[39;49m\u001b[43mtrain\u001b[49m\u001b[43m)\u001b[49m\n\u001b[0;32m      3\u001b[0m \u001b[38;5;66;03m# For Validation Set\u001b[39;00m\n\u001b[0;32m      4\u001b[0m val_num_features, val_num_classes, val_candidate, val_C_list, val_Gc_list, val_subgraph_list \u001b[38;5;241m=\u001b[39m coarsening(dataset\u001b[38;5;241m=\u001b[39m\u001b[38;5;124m'\u001b[39m\u001b[38;5;124mtest.ipynb\u001b[39m\u001b[38;5;124m'\u001b[39m, coarsening_ratio\u001b[38;5;241m=\u001b[39m\u001b[38;5;241m0.7\u001b[39m, coarsening_method\u001b[38;5;241m=\u001b[39m\u001b[38;5;124m\"\u001b[39m\u001b[38;5;124mvariation_neighborhoods\u001b[39m\u001b[38;5;124m\"\u001b[39m, Dataset\u001b[38;5;241m=\u001b[39mval)\n",
      "\u001b[1;31mTypeError\u001b[0m: coarsening() missing 1 required positional argument: 'args'"
     ]
    }
   ],
   "source": [
    "# For Training Set\n",
    "train_num_features, train_num_classes, train_candidate, train_C_list, train_Gc_list, train_subgraph_list = coarsening(args, dataset='test.ipynb', coarsening_ratio=0.7, coarsening_method=\"variation_neighborhoods\", Dataset=train)\n",
    "# For Validation Set\n",
    "val_num_features, val_num_classes, val_candidate, val_C_list, val_Gc_list, val_subgraph_list = coarsening(args, dataset='test.ipynb', coarsening_ratio=0.7, coarsening_method=\"variation_neighborhoods\", Dataset=val)\n",
    "# For Testing  Set\n",
    "test_num_features, test_num_classes, test_candidate, test_C_list, test_Gc_list, test_subgraph_list = coarsening(args, dataset='test.ipynb', coarsening_ratio=0.7, coarsening_method=\"variation_neighborhoods\", Dataset=test)"
   ]
  },
  {
   "cell_type": "code",
   "execution_count": null,
   "metadata": {},
   "outputs": [],
   "source": [
    "print(f'''\n",
    "    -----------------------------\n",
    "    Num of Features accross sets:\n",
    "    Train:  {train_num_features}\n",
    "    Val:    {val_num_features}\n",
    "    Test:   {test_num_features}\n",
    "    -----------------------------\n",
    "    Num of classes accross sets:\n",
    "    Train:  {train_num_classes}\n",
    "    Val:    {val_num_classes}\n",
    "    Test:   {test_num_classes}\n",
    "    -----------------------------\n",
    "    Num of disconnected components accross sets:\n",
    "    Train:  {len(train_subgraph_list)} or {len(train_candidate)}\n",
    "    Val:    {len(val_subgraph_list)}   or {len(val_candidate)}\n",
    "    Test:   {len(test_subgraph_list)}  or {len(test_candidate)}\n",
    "    -----------------------------\n",
    "    Num of nodes in original sets v/s metanodes in coarsened set:\n",
    "    Train:  {len(train.x)}  v/s {sum([len(component.keys()) for component in train_subgraph_list])}\n",
    "    Val:    {len(val.x)}    v/s {sum([len(component.keys()) for component in val_subgraph_list])}    \n",
    "    Test:   {len(test.x)}   v/s {sum([len(component.keys()) for component in test_subgraph_list])}\n",
    "    ''')"
   ]
  },
  {
   "cell_type": "markdown",
   "metadata": {},
   "source": [
    "↑↑↑↑↑ COMMENT ↑↑↑↑↑ <br>\n",
    "NOT DONE YET"
   ]
  },
  {
   "cell_type": "markdown",
   "metadata": {},
   "source": [
    "Normal Use (`COARSENING RATIO` = 0.7 and `COARSENING METHOD` = Variation Neighborhoods)"
   ]
  },
  {
   "cell_type": "code",
   "execution_count": null,
   "metadata": {},
   "outputs": [],
   "source": [
    "num_features, num_classes, candidate, C_list, Gc_list, subgraph_list = coarsening(dataset = \"cora\", coarsening_ratio=0.7, coarsening_method=\"variation_neighborhoods\", Dataset=None)"
   ]
  },
  {
   "cell_type": "code",
   "execution_count": null,
   "metadata": {},
   "outputs": [],
   "source": [
    "print(f'''\n",
    "    -----------------------------\n",
    "    Num of Features accross sets:   {num_features}\n",
    "    -----------------------------\n",
    "    Num of classes accross sets:    {num_classes}\n",
    "    -----------------------------\n",
    "    Num of disconnected components accross sets:    {len(candidate)} or {len(subgraph_list)}\n",
    "    -----------------------------\n",
    "    Num of nodes in original sets v/s metanodes in coarsened set: {len(Planetoid(\"./dataset\", 'cora')[0].x)} v/s {sum([len(component.keys()) for component in subgraph_list])}\n",
    "    ''')"
   ]
  },
  {
   "cell_type": "markdown",
   "metadata": {},
   "source": [
    "Verification"
   ]
  },
  {
   "cell_type": "code",
   "execution_count": null,
   "metadata": {},
   "outputs": [],
   "source": [
    "nodes = []\n",
    "for idx, component in enumerate(test_subgraph_list): # Vary the obtained subgraph_list: `train_subgraph_list`, `val_subgraph_list`, `test_subgraph_list`\n",
    "    # print(f\"{idx} -> {len(component.keys())}\")\n",
    "    for k,v in component.items():\n",
    "        nodes.extend(v)\n",
    "print(f\"Number of original nodes in the set: {len(set(nodes))}\")"
   ]
  },
  {
   "cell_type": "markdown",
   "metadata": {},
   "source": [
    "## BEWARE: The Networkx plotter is behaving unintuitively (will be explained when we meet). However, the graph data objects are right."
   ]
  },
  {
   "cell_type": "code",
   "execution_count": 128,
   "metadata": {},
   "outputs": [
    {
     "data": {
      "image/png": "[encoded data removed]",
      "text/plain": [
       "<Figure size 500x500 with 1 Axes>"
      ]
     },
     "metadata": {},
     "output_type": "display_data"
    }
   ],
   "source": [
    "#convert graph to networkx\n",
    "import networkx as nx\n",
    "import matplotlib.pyplot as plt\n",
    "from torch_geometric.utils import to_networkx\n",
    "\n",
    "#convert to networkx with node attributes\n",
    "G = to_networkx(data, to_undirected=True)\n",
    "#plot\n",
    "plt.figure(figsize=(5,5))\n",
    "pos = nx.spring_layout(G)\n",
    "nx.draw(G,pos,node_size=10,node_color='lightblue',with_labels=True)\n",
    "plt.title('Graph')\n",
    "plt.show()\n"
   ]
  },
  {
   "cell_type": "code",
   "execution_count": 132,
   "metadata": {},
   "outputs": [
    {
     "data": {
      "image/png": "[encoded data removed]",
      "text/plain": [
       "<Figure size 500x500 with 1 Axes>"
      ]
     },
     "metadata": {},
     "output_type": "display_data"
    },
    {
     "data": {
      "image/png": "[encoded data removed]",
      "text/plain": [
       "<Figure size 500x500 with 1 Axes>"
      ]
     },
     "metadata": {},
     "output_type": "display_data"
    },
    {
     "data": {
      "image/png": "[encoded data removed]",
      "text/plain": [
       "<Figure size 500x500 with 1 Axes>"
      ]
     },
     "metadata": {},
     "output_type": "display_data"
    }
   ],
   "source": [
    "G = to_networkx(train, to_undirected=True)\n",
    "plt.figure(figsize=(5,5))\n",
    "pos = nx.spring_layout(G)\n",
    "nx.draw(G,pos,node_size=10, node_color='lightblue',with_labels=True)\n",
    "plt.title('Train Graph')\n",
    "plt.show()\n",
    "\n",
    "G = to_networkx(val, to_undirected=True)\n",
    "plt.figure(figsize=(5,5))\n",
    "pos = nx.spring_layout(G)\n",
    "nx.draw(G,pos,node_size=10,node_color='lightblue',with_labels=True)\n",
    "plt.title('Val Graph')\n",
    "plt.show()\n",
    "\n",
    "G = to_networkx(test, to_undirected=True)\n",
    "plt.figure(figsize=(5,5))\n",
    "pos = nx.spring_layout(G)\n",
    "nx.draw(G,pos,node_size=10,node_color='lightblue',with_labels=True)\n",
    "plt.title('Test Graph')\n",
    "plt.show()"
   ]
  },
  {
   "cell_type": "code",
   "execution_count": null,
   "metadata": {},
   "outputs": [],
   "source": []
  }
 ],
 "metadata": {
  "kernelspec": {
   "display_name": ".venv",
   "language": "python",
   "name": "python3"
  },
  "language_info": {
   "codemirror_mode": {
    "name": "ipython",
    "version": 3
   },
   "file_extension": ".py",
   "mimetype": "text/x-python",
   "name": "python",
   "nbconvert_exporter": "python",
   "pygments_lexer": "ipython3",
   "version": "3.12.0"
  }
 },
 "nbformat": 4,
 "nbformat_minor": 2
}
