{
 "cells": [
  {
   "cell_type": "code",
   "execution_count": 10,
   "metadata": {},
   "outputs": [],
   "source": [
    "from torch_geometric.data import Data\n",
    "import torch\n",
    "import numpy as np"
   ]
  },
  {
   "cell_type": "code",
   "execution_count": 26,
   "metadata": {},
   "outputs": [],
   "source": [
    "edge_index = torch.tensor([[3,5,6,2,4],[5,3,2,6,6]],dtype=torch.long)\n",
    "x = torch.tensor([[1,2,3],[4,5,6],[7,8,9],[10,11,12],[13,14,15],[1,33,4],[12, 4, 2]],dtype=torch.float)\n",
    "y = torch.tensor([0,1,0,1,0,0,1],dtype=torch.long)\n",
    "data = Data(x=x,edge_index=edge_index,y=y)"
   ]
  },
  {
   "cell_type": "code",
   "execution_count": 27,
   "metadata": {},
   "outputs": [
    {
     "data": {
      "image/png": "[encoded data removed]",
      "text/plain": [
       "<Figure size 500x500 with 1 Axes>"
      ]
     },
     "metadata": {},
     "output_type": "display_data"
    }
   ],
   "source": [
    "#convert graph to networkx\n",
    "import networkx as nx\n",
    "import matplotlib.pyplot as plt\n",
    "from torch_geometric.utils import to_networkx\n",
    "\n",
    "#convert to networkx with node attributes\n",
    "G = to_networkx(data, to_undirected=True)\n",
    "#plot\n",
    "plt.figure(figsize=(5,5))\n",
    "pos = nx.spring_layout(G)\n",
    "nx.draw(G,pos,node_size=10,node_color='lightblue',with_labels=True)\n",
    "plt.title('Graph')\n",
    "plt.show()\n"
   ]
  },
  {
   "cell_type": "code",
   "execution_count": 13,
   "metadata": {},
   "outputs": [],
   "source": [
    "from torch_geometric.utils import *\n",
    "\n",
    "H = subgraph(edge_index=data.edge_index, subset=[[1,2,4,6]], relabel_nodes=False)"
   ]
  },
  {
   "cell_type": "code",
   "execution_count": 14,
   "metadata": {},
   "outputs": [
    {
     "data": {
      "text/plain": [
       "tensor([[3, 5, 6, 2, 4],\n",
       "        [5, 3, 2, 6, 6]])"
      ]
     },
     "execution_count": 14,
     "metadata": {},
     "output_type": "execute_result"
    }
   ],
   "source": [
    "data.edge_index"
   ]
  },
  {
   "cell_type": "code",
   "execution_count": 15,
   "metadata": {},
   "outputs": [
    {
     "data": {
      "text/plain": [
       "(tensor([[6, 2, 4],\n",
       "         [2, 6, 6]]),\n",
       " None)"
      ]
     },
     "execution_count": 15,
     "metadata": {},
     "output_type": "execute_result"
    }
   ],
   "source": [
    "H"
   ]
  },
  {
   "cell_type": "code",
   "execution_count": 16,
   "metadata": {},
   "outputs": [
    {
     "data": {
      "text/plain": [
       "tensor([[ 1.,  2.,  3.],\n",
       "        [ 4.,  5.,  6.],\n",
       "        [ 7.,  8.,  9.],\n",
       "        [10., 11., 12.],\n",
       "        [13., 14., 15.],\n",
       "        [ 1., 33.,  4.],\n",
       "        [12.,  4.,  2.]])"
      ]
     },
     "execution_count": 16,
     "metadata": {},
     "output_type": "execute_result"
    }
   ],
   "source": [
    "data.x"
   ]
  },
  {
   "cell_type": "code",
   "execution_count": 17,
   "metadata": {},
   "outputs": [
    {
     "data": {
      "text/plain": [
       "tensor([[ 4.,  5.,  6.],\n",
       "        [ 7.,  8.,  9.],\n",
       "        [13., 14., 15.],\n",
       "        [12.,  4.,  2.]])"
      ]
     },
     "execution_count": 17,
     "metadata": {},
     "output_type": "execute_result"
    }
   ],
   "source": [
    "#create a new x tensor with node 1,2,4,6\n",
    "data.x[[1,2,4,6]]\n"
   ]
  },
  {
   "cell_type": "code",
   "execution_count": 18,
   "metadata": {},
   "outputs": [],
   "source": [
    "list_of_nodes = [1,2,4,6]\n",
    "#convert to numpy ndarray\n",
    "import numpy as np\n",
    "list_of_nodes = np.array(list_of_nodes)"
   ]
  },
  {
   "cell_type": "code",
   "execution_count": 19,
   "metadata": {},
   "outputs": [],
   "source": [
    "coarsen_node = 6"
   ]
  },
  {
   "cell_type": "code",
   "execution_count": 20,
   "metadata": {},
   "outputs": [
    {
     "data": {
      "text/plain": [
       "array([ 7,  8, 10, 12])"
      ]
     },
     "execution_count": 20,
     "metadata": {},
     "output_type": "execute_result"
    }
   ],
   "source": [
    "list_of_nodes+coarsen_node"
   ]
  },
  {
   "cell_type": "code",
   "execution_count": 21,
   "metadata": {},
   "outputs": [],
   "source": [
    "subgraph_edge_index = subgraph(edge_index=data.edge_index, subset=torch.tensor(list_of_nodes), relabel_nodes=True)"
   ]
  },
  {
   "cell_type": "code",
   "execution_count": 22,
   "metadata": {},
   "outputs": [],
   "source": [
    "M = Data(x=data.x[list_of_nodes],edge_index=subgraph_edge_index[0], y=data.y[list_of_nodes], mapping={int(value): i for i, value in enumerate(list_of_nodes)})"
   ]
  },
  {
   "cell_type": "code",
   "execution_count": 23,
   "metadata": {},
   "outputs": [
    {
     "data": {
      "text/plain": [
       "4"
      ]
     },
     "execution_count": 23,
     "metadata": {},
     "output_type": "execute_result"
    }
   ],
   "source": [
    "M.num_nodes"
   ]
  },
  {
   "cell_type": "code",
   "execution_count": 24,
   "metadata": {},
   "outputs": [
    {
     "data": {
      "text/plain": [
       "(tensor([[3, 1, 2],\n",
       "         [1, 3, 3]]),\n",
       " {1: 0, 2: 1, 4: 2, 6: 3})"
      ]
     },
     "execution_count": 24,
     "metadata": {},
     "output_type": "execute_result"
    }
   ],
   "source": [
    "M.edge_index, M.mapping"
   ]
  },
  {
   "cell_type": "code",
   "execution_count": 25,
   "metadata": {},
   "outputs": [
    {
     "name": "stdout",
     "output_type": "stream",
     "text": [
      "1 0\n",
      "2 1\n",
      "4 2\n",
      "6 3\n"
     ]
    }
   ],
   "source": [
    "for key, value in M.mapping.items():\n",
    "    print(key, value)"
   ]
  },
  {
   "cell_type": "code",
   "execution_count": 1,
   "metadata": {},
   "outputs": [
    {
     "data": {
      "text/plain": [
       "(torch.Size([0, 7]), tensor([], size=(0, 7)))"
      ]
     },
     "execution_count": 1,
     "metadata": {},
     "output_type": "execute_result"
    }
   ],
   "source": [
    "import torch\n",
    "A = torch.rand(0,7)\n",
    "A.shape, A"
   ]
  },
  {
   "cell_type": "code",
   "execution_count": 1,
   "metadata": {},
   "outputs": [],
   "source": [
    "import torch\n",
    "from network import *\n",
    "\n",
    "\n",
    "model = Net1(2, 1433, 512, 7)"
   ]
  },
  {
   "cell_type": "code",
   "execution_count": 9,
   "metadata": {},
   "outputs": [
    {
     "data": {
      "text/plain": [
       "<All keys matched successfully>"
      ]
     },
     "execution_count": 9,
     "metadata": {},
     "output_type": "execute_result"
    }
   ],
   "source": [
    "model.load_state_dict(torch.load('/hdfs1/Data/Shubhajit/CoPart-GNN/save/cora_extra_fixed_03/model1.pt'))"
   ]
  },
  {
   "cell_type": "code",
   "execution_count": 10,
   "metadata": {},
   "outputs": [
    {
     "name": "stdout",
     "output_type": "stream",
     "text": [
      "conv.0.bias torch.Size([512])\n",
      "conv.0.lin.weight torch.Size([512, 1433])\n",
      "conv.1.bias torch.Size([512])\n",
      "conv.1.lin.weight torch.Size([512, 512])\n",
      "lt1.weight torch.Size([7, 512])\n",
      "lt1.bias torch.Size([7])\n"
     ]
    }
   ],
   "source": [
    "#layers in the model\n",
    "for name, param in model.named_parameters():\n",
    "    print(name, param.shape)"
   ]
  },
  {
   "cell_type": "code",
   "execution_count": 12,
   "metadata": {},
   "outputs": [
    {
     "name": "stdout",
     "output_type": "stream",
     "text": [
      "Parameter containing:\n",
      "tensor([ 2.8461e-04,  3.4568e-04,  1.8534e-03, -3.9286e-04,  1.1731e-03,\n",
      "         5.2608e-04,  4.9994e-04,  5.3805e-04, -1.4722e-04, -3.7439e-04,\n",
      "        -2.8052e-04,  8.1055e-05,  4.6440e-04, -5.8275e-04,  3.0371e-04,\n",
      "         1.1596e-03,  1.2366e-04, -8.0446e-04, -5.2435e-04,  6.4678e-04,\n",
      "         6.3201e-04, -1.0931e-04,  3.4541e-05,  3.6613e-05,  2.4861e-04,\n",
      "        -7.7003e-04, -1.0826e-04, -2.2499e-04,  7.3164e-04,  1.7493e-03,\n",
      "        -2.5313e-04,  3.9330e-04, -1.2151e-04, -8.5971e-04, -5.7801e-04,\n",
      "        -9.8087e-04, -1.5914e-03,  7.1736e-04, -8.5266e-04,  8.7409e-04,\n",
      "         8.2979e-04, -3.7865e-04,  1.4044e-04, -5.9125e-04, -3.1668e-04,\n",
      "         1.4907e-03,  1.0195e-04, -2.5064e-04, -1.0398e-05,  4.5172e-04,\n",
      "        -1.0282e-03,  9.0043e-04, -1.2780e-03, -2.3934e-04,  5.3825e-04,\n",
      "         6.9820e-04,  6.6255e-04, -4.3769e-04,  2.7726e-04, -1.1667e-03,\n",
      "         6.7003e-04,  6.4378e-04, -3.5317e-04,  2.3549e-04, -1.3096e-03,\n",
      "         9.2167e-04,  3.1740e-04, -5.8038e-04, -1.7814e-04, -3.6876e-04,\n",
      "         1.3799e-03,  5.8785e-05,  7.7693e-04, -6.3161e-05, -1.1844e-05,\n",
      "         1.5272e-04, -8.4419e-04, -6.7807e-04, -4.2924e-04, -4.1280e-04,\n",
      "        -6.5070e-04,  4.2123e-04,  5.4133e-04,  7.4985e-04,  1.9991e-03,\n",
      "        -4.4527e-04, -4.2863e-04,  1.0063e-03,  2.6518e-04,  8.2710e-04,\n",
      "         4.0741e-04, -7.2005e-05,  2.1139e-04, -6.9193e-04, -7.9812e-04,\n",
      "        -4.4695e-04,  1.1586e-04, -1.0369e-03, -6.2379e-04,  6.0969e-04,\n",
      "        -1.3518e-03,  7.2005e-05, -1.0304e-03, -1.3775e-03,  6.2451e-04,\n",
      "         2.3158e-04, -4.7122e-04,  7.5115e-05,  9.7386e-04, -2.3194e-03,\n",
      "        -5.2352e-04, -7.5751e-04,  9.8757e-05, -9.4620e-05,  1.3324e-03,\n",
      "        -7.0343e-04, -1.2457e-04, -4.9428e-04,  1.1388e-03, -9.8782e-04,\n",
      "         1.1974e-03, -3.0740e-04, -7.3422e-04, -4.4888e-04, -5.5454e-04,\n",
      "         2.6534e-04, -4.6958e-04,  5.8298e-04, -2.1245e-04,  7.1253e-04,\n",
      "        -7.6580e-04,  4.8020e-04, -8.5324e-04, -3.5734e-05, -3.0265e-04,\n",
      "        -6.1461e-04, -5.7110e-04, -9.4708e-04,  7.6597e-05, -5.4833e-04,\n",
      "         3.4867e-04,  9.0694e-04,  1.4215e-04,  2.1130e-03,  6.4232e-04,\n",
      "         1.2573e-03, -1.2737e-04,  4.9768e-04,  7.2588e-04,  2.9177e-04,\n",
      "        -2.8353e-04, -9.2050e-04,  1.3259e-04,  8.6792e-04,  9.7162e-05,\n",
      "         6.9966e-04, -6.3191e-04,  1.9917e-04, -4.6509e-05, -3.5434e-04,\n",
      "        -5.8075e-04, -3.5446e-04,  1.0315e-06,  2.6281e-04, -2.1255e-04,\n",
      "         1.9365e-05,  9.9350e-04, -8.6437e-04,  4.8708e-04,  1.0046e-03,\n",
      "         2.6700e-06,  1.4524e-03, -8.0007e-05, -4.6990e-04,  6.9712e-04,\n",
      "         5.0520e-04, -1.1774e-03,  7.6552e-04,  1.0192e-03, -5.2107e-04,\n",
      "        -7.2761e-04, -4.6184e-04, -2.2858e-04, -5.7145e-04, -1.5372e-03,\n",
      "         1.4309e-03, -5.3383e-04,  2.2814e-04, -1.2464e-03,  4.0962e-04,\n",
      "         1.1942e-03,  9.8729e-04, -1.0061e-03,  3.9759e-04,  7.7539e-04,\n",
      "        -8.2988e-04,  2.9968e-04,  4.6720e-04,  2.7647e-04, -6.2970e-04,\n",
      "         7.3623e-04,  3.5005e-05, -1.0367e-03, -2.6957e-04,  1.4826e-04,\n",
      "        -7.4614e-04, -2.4992e-04, -7.7985e-04,  5.1206e-04,  1.0076e-03,\n",
      "        -7.8758e-04, -5.0796e-04, -1.1910e-03,  4.6902e-04, -3.3623e-04,\n",
      "        -2.2786e-04, -1.0522e-03,  2.2830e-04, -2.2081e-05, -3.0212e-04,\n",
      "        -2.0641e-04, -6.0396e-04,  7.2352e-04, -2.5661e-04, -8.0117e-04,\n",
      "         4.0270e-04,  1.3187e-04,  1.6996e-05, -8.1302e-04, -6.8404e-04,\n",
      "         1.9405e-04,  4.2042e-05,  9.8343e-05, -8.3489e-04,  5.1253e-04,\n",
      "        -3.5124e-04,  1.5548e-04,  3.0951e-04, -1.2264e-03,  1.0260e-03,\n",
      "         7.3050e-04,  9.9261e-05,  8.9576e-04,  8.3275e-05,  3.7220e-04,\n",
      "        -6.4857e-04, -3.2825e-04, -5.9846e-04, -5.2674e-04, -6.6242e-04,\n",
      "         2.3416e-04, -9.4610e-04,  6.7651e-04,  3.2970e-05,  4.5896e-04,\n",
      "         2.8896e-04, -8.0081e-04, -2.2566e-04, -4.3283e-04, -1.2769e-03,\n",
      "        -2.1765e-04, -3.0092e-04,  2.3651e-04,  6.2453e-04, -2.7818e-04,\n",
      "        -8.7427e-04, -9.2353e-04, -6.5656e-04, -6.4081e-04, -1.7507e-03,\n",
      "         6.8623e-04, -9.8087e-04, -3.5873e-04,  1.3004e-03,  8.9092e-04,\n",
      "        -1.0266e-03, -7.0958e-04,  6.9924e-04, -1.4463e-04,  5.1426e-04,\n",
      "        -8.7009e-04,  1.9067e-04, -4.0017e-04, -4.8486e-04,  2.0907e-04,\n",
      "         8.7703e-04, -2.9727e-03,  9.2080e-04, -2.6341e-04, -1.6331e-04,\n",
      "        -8.3259e-04, -8.0718e-05,  5.2549e-04, -1.0375e-03, -1.7566e-04,\n",
      "         2.3409e-04, -1.0659e-03,  1.8620e-03, -3.0773e-04, -1.2389e-03,\n",
      "         1.0622e-03, -3.6721e-04,  7.0865e-04, -1.6848e-03, -8.8420e-04,\n",
      "        -4.7279e-04, -1.6539e-04, -1.0576e-03,  6.5761e-04,  7.1369e-04,\n",
      "         6.4114e-04, -1.3333e-03,  5.2920e-04,  2.5089e-04, -7.6494e-04,\n",
      "        -1.0329e-03,  7.2584e-05,  1.0761e-03, -4.9356e-04,  1.0793e-03,\n",
      "         1.4892e-04,  1.2714e-03,  1.1128e-03, -4.6715e-04,  3.8299e-05,\n",
      "         1.5281e-04,  8.2369e-05, -4.4170e-04,  2.2977e-05,  9.8586e-04,\n",
      "        -1.3695e-03,  9.9758e-04,  1.8627e-04,  1.2625e-04, -4.1982e-04,\n",
      "        -6.0895e-04,  4.0018e-05,  1.1781e-03,  4.9223e-04, -5.5898e-04,\n",
      "         7.2164e-05,  6.4640e-04, -5.8743e-05, -1.2591e-04,  5.7639e-04,\n",
      "         4.1732e-04, -1.4952e-04, -7.3225e-04, -6.0206e-04, -4.8987e-04,\n",
      "         1.1273e-03,  2.3217e-04, -3.8860e-04,  1.8951e-04,  7.4443e-04,\n",
      "         5.4198e-04,  1.4326e-03, -6.8252e-04,  8.4409e-04, -5.8163e-04,\n",
      "        -2.5326e-04,  8.6821e-04, -1.4488e-03, -1.6184e-05,  6.1801e-04,\n",
      "        -9.3469e-05,  1.2117e-03, -1.7917e-04,  4.0315e-04,  1.7780e-03,\n",
      "         2.6621e-04,  5.0544e-04,  1.3016e-03, -6.0655e-05,  3.3608e-04,\n",
      "        -8.0287e-04, -2.4204e-03,  1.0338e-04, -1.2626e-04,  3.2613e-04,\n",
      "         2.8448e-04,  5.8231e-04,  4.7081e-04,  4.5701e-04, -1.3741e-04,\n",
      "         6.9025e-04, -1.8940e-04,  9.1430e-05,  8.7723e-04,  3.2682e-04,\n",
      "        -2.4729e-04, -7.2599e-04, -1.5305e-03, -2.0519e-04, -4.7664e-05,\n",
      "         2.5515e-04, -3.5837e-04,  2.5977e-04, -1.2070e-03,  1.9264e-04,\n",
      "         1.5139e-03, -9.6624e-04, -1.4440e-03, -1.8750e-04, -6.8100e-04,\n",
      "         1.7663e-03, -1.7600e-04, -9.6379e-06,  4.2519e-04, -5.8340e-04,\n",
      "        -7.2889e-06,  2.6249e-04, -2.2289e-04,  1.1195e-03, -1.5127e-03,\n",
      "         2.6877e-04, -3.9901e-04, -1.0418e-03,  3.8861e-04, -1.7162e-05,\n",
      "         3.3359e-04, -1.2427e-03, -5.4829e-04, -1.4066e-03, -1.1592e-03,\n",
      "         4.1477e-04, -6.2740e-05,  1.8409e-03, -7.8101e-04, -8.8625e-05,\n",
      "        -1.4484e-03,  1.5298e-03,  8.7608e-05, -7.4485e-04, -1.7125e-04,\n",
      "         1.2811e-03, -3.9653e-04,  5.3323e-05, -7.0069e-04, -1.3047e-03,\n",
      "        -8.6461e-04, -1.7226e-04, -1.9325e-03, -3.1927e-04,  3.6379e-04,\n",
      "         1.3693e-04, -4.9819e-04,  5.3475e-04, -3.6022e-04, -1.0685e-03,\n",
      "         6.2481e-04, -1.1191e-03, -7.8394e-04, -1.7791e-04,  4.7712e-04,\n",
      "        -7.7631e-04,  1.2812e-03, -1.4733e-03, -5.4213e-05,  2.5226e-04,\n",
      "         4.3366e-04,  9.1393e-04,  1.9663e-03,  5.1543e-05, -6.7486e-04,\n",
      "        -6.1537e-04, -8.3611e-04, -1.7944e-03,  2.5317e-04,  7.6436e-04,\n",
      "         8.9367e-05, -1.5228e-03,  3.4290e-04, -7.3421e-05, -8.3060e-04,\n",
      "        -1.8346e-03, -6.2110e-04, -7.1420e-04, -9.1141e-04, -8.9718e-05,\n",
      "         3.8142e-04,  7.2510e-04, -6.5645e-04,  8.1056e-04,  4.1394e-04,\n",
      "         2.0701e-04, -1.5331e-03,  1.1597e-03,  1.5240e-03,  1.6558e-03,\n",
      "        -8.4993e-04,  1.5977e-03,  6.0096e-04,  1.4108e-03,  6.0435e-04,\n",
      "         4.7092e-04,  4.2364e-04, -9.0622e-04,  3.1991e-04,  1.6118e-04,\n",
      "         1.5883e-05,  2.8149e-04,  1.8132e-04,  1.7329e-04,  1.5298e-03,\n",
      "         6.0292e-04,  6.2362e-04,  1.5595e-04, -4.8053e-04,  4.6278e-04,\n",
      "         6.7778e-05, -5.5685e-04], requires_grad=True)\n",
      "Parameter containing:\n",
      "tensor([[-2.6750e-03, -4.1626e-03, -2.2253e-03,  ...,  1.5241e-03,\n",
      "         -2.7269e-03, -1.3951e-04],\n",
      "        [-8.0824e-04,  2.9098e-03,  2.8450e-04,  ...,  1.6536e-03,\n",
      "         -7.0701e-06, -4.1864e-04],\n",
      "        [-4.5006e-04, -3.0048e-04,  8.8409e-04,  ..., -2.9095e-03,\n",
      "          6.8042e-04, -9.5262e-04],\n",
      "        ...,\n",
      "        [ 1.8746e-03, -6.5164e-06, -2.0240e-03,  ...,  2.3186e-03,\n",
      "         -2.9054e-03,  3.1014e-03],\n",
      "        [ 2.7002e-03, -1.9196e-03,  2.7359e-03,  ..., -3.6812e-04,\n",
      "         -6.1862e-04, -2.5482e-03],\n",
      "        [-2.4957e-03, -3.3057e-03, -4.4113e-04,  ..., -1.0928e-03,\n",
      "          3.0395e-04,  2.5524e-03]], requires_grad=True)\n",
      "Parameter containing:\n",
      "tensor([-9.2311e-04, -4.1988e-03, -3.4477e-03, -3.6877e-03, -4.3757e-04,\n",
      "        -4.4843e-03,  1.2242e-03, -1.1856e-03,  3.2805e-03, -2.5585e-03,\n",
      "        -5.6545e-04, -3.3776e-03,  1.4321e-03,  4.3670e-04,  4.2569e-03,\n",
      "         3.5328e-06,  7.2945e-04, -9.6276e-04,  6.8171e-04,  1.5489e-03,\n",
      "        -2.2931e-03, -2.5060e-04,  1.1292e-04,  4.4086e-03, -6.4582e-04,\n",
      "        -1.6936e-03, -1.0613e-03,  2.0850e-03, -8.6437e-04, -2.0040e-03,\n",
      "         2.7067e-03,  5.6673e-04,  3.2476e-04, -3.5148e-04, -2.6252e-03,\n",
      "        -4.5763e-03, -4.0549e-03,  6.0625e-03, -2.9604e-03,  4.2754e-03,\n",
      "        -3.3885e-03, -1.7646e-03, -1.1219e-03, -2.2040e-03,  6.5938e-04,\n",
      "         2.6978e-04, -6.3096e-04, -1.1188e-03, -1.5572e-03, -2.4479e-03,\n",
      "        -9.6214e-03, -2.4831e-04,  9.6099e-04, -4.5028e-03,  2.2022e-03,\n",
      "        -2.0127e-03,  3.7957e-04, -3.4595e-03,  1.5594e-03, -1.0443e-02,\n",
      "         3.0550e-03, -3.6013e-04,  1.0066e-03,  2.0915e-03, -5.2292e-04,\n",
      "        -4.2331e-03,  2.6540e-03, -8.0991e-04, -1.8359e-03,  1.7546e-05,\n",
      "         8.7848e-05,  8.8574e-04,  2.6454e-03, -3.7576e-03,  3.2140e-03,\n",
      "         1.7404e-04, -3.6759e-03, -3.1863e-03, -8.9024e-04, -1.7043e-03,\n",
      "         2.1090e-03, -2.0086e-03, -1.3128e-03, -3.1216e-03,  4.8182e-04,\n",
      "        -2.0105e-03, -6.1813e-03, -1.5164e-03,  3.1770e-03,  3.0518e-03,\n",
      "         4.8518e-04,  8.3580e-03, -3.3290e-03,  2.5854e-03,  3.7784e-03,\n",
      "         2.8697e-03, -4.3734e-03,  3.4317e-03, -4.6379e-03, -2.6780e-03,\n",
      "        -9.2552e-04, -3.6803e-04, -9.0255e-04,  3.0772e-03,  6.0445e-03,\n",
      "         6.6684e-04,  4.0508e-03,  4.4566e-05,  2.5213e-03,  2.1278e-03,\n",
      "         1.5458e-03, -6.9637e-03,  1.3128e-04, -3.2753e-03, -2.8100e-03,\n",
      "         1.0721e-03, -2.9901e-03,  4.0547e-03,  2.2785e-03,  2.0325e-03,\n",
      "        -7.3337e-04,  9.2969e-04,  4.2607e-03,  1.6687e-03,  2.3737e-03,\n",
      "         4.4089e-03, -3.1626e-03, -2.8797e-04,  1.9567e-03, -6.2757e-05,\n",
      "        -1.4529e-03, -9.9350e-05, -1.4897e-03, -7.6859e-04, -1.0549e-03,\n",
      "         9.4582e-04, -2.7951e-04,  2.4069e-03, -3.0478e-03, -3.8296e-04,\n",
      "         5.7682e-05, -1.4040e-04,  1.3029e-03, -7.4764e-05,  3.6237e-03,\n",
      "         2.2561e-03,  1.1631e-03, -4.2688e-03,  2.2549e-03,  1.5558e-03,\n",
      "         1.6801e-03,  1.7843e-04,  5.5509e-03,  1.6030e-03, -2.9898e-04,\n",
      "        -4.6122e-04, -1.4983e-03, -1.7212e-03, -2.4720e-03,  6.9443e-04,\n",
      "        -5.5794e-04, -1.5840e-03,  5.2132e-03, -1.8983e-03,  1.3862e-03,\n",
      "         1.8137e-03,  1.4366e-03,  9.6928e-04,  3.7413e-03, -1.3770e-03,\n",
      "        -3.0873e-03, -4.6824e-03,  2.6492e-03, -6.1309e-04, -1.4786e-03,\n",
      "         3.9342e-03,  3.1640e-03, -1.2758e-03, -2.4926e-03,  4.7213e-05,\n",
      "        -1.5469e-03,  2.4738e-03, -6.7359e-03, -2.5176e-03,  1.8662e-03,\n",
      "         1.3576e-04, -2.6836e-03, -5.1173e-03,  5.9267e-04,  1.4193e-03,\n",
      "         3.0401e-04, -3.0943e-03,  2.4482e-04,  5.4187e-03, -1.1828e-03,\n",
      "         1.9323e-03,  1.5481e-03,  4.4805e-03, -2.6411e-03, -3.2218e-03,\n",
      "        -4.7100e-04,  2.8178e-03, -8.9232e-04,  8.0951e-04, -3.4676e-03,\n",
      "        -2.3925e-03,  5.0170e-03, -4.5566e-03,  3.0647e-03, -6.0153e-03,\n",
      "         2.2974e-03, -2.6734e-03,  6.7193e-03, -1.2096e-04,  2.8903e-03,\n",
      "        -5.2970e-03,  3.2903e-03, -3.2593e-03, -1.8218e-03, -1.0036e-03,\n",
      "         1.0781e-03, -3.7959e-03,  4.1608e-04, -6.2361e-05,  2.5230e-03,\n",
      "         1.9665e-03,  1.1040e-03,  1.4570e-04,  5.1381e-03, -2.7578e-03,\n",
      "        -2.3496e-03, -1.3843e-03,  6.2144e-04, -3.1971e-03, -2.2131e-03,\n",
      "        -1.6738e-03, -8.9619e-04,  9.1955e-04,  8.0557e-04,  1.1431e-03,\n",
      "        -2.0465e-03,  1.1069e-03, -6.1847e-03, -1.5978e-03,  1.1967e-03,\n",
      "        -1.6989e-03,  1.7559e-03, -4.4570e-04,  7.7761e-04,  2.6246e-03,\n",
      "        -1.9473e-03, -9.1181e-05, -4.3313e-03, -1.1574e-03,  4.9057e-03,\n",
      "        -5.9676e-04, -1.4409e-03,  2.6433e-04,  2.7831e-04, -2.6909e-03,\n",
      "         1.6307e-04, -1.0680e-03, -3.2425e-03,  1.2066e-03, -5.4580e-04,\n",
      "        -2.2807e-03,  1.5399e-03,  3.4321e-03,  2.8378e-03, -1.4546e-03,\n",
      "        -5.0839e-03,  1.9126e-03,  5.2392e-04,  4.5805e-03, -5.3028e-04,\n",
      "         5.6154e-03, -3.4879e-03, -3.3896e-03, -5.4427e-03, -1.2834e-03,\n",
      "        -9.8922e-04, -6.7731e-03,  7.3677e-04, -9.2331e-04, -7.2799e-03,\n",
      "         1.6165e-03,  4.2491e-03, -8.8900e-04, -2.6604e-03, -1.9646e-03,\n",
      "        -5.1017e-03, -4.0319e-03,  2.8067e-03, -1.1536e-03, -1.7943e-03,\n",
      "        -3.0331e-03,  4.9267e-04, -4.1956e-03,  1.0921e-03, -4.0395e-03,\n",
      "        -1.9060e-03, -1.5724e-03, -1.6267e-04, -2.2626e-03, -4.1779e-04,\n",
      "        -8.0851e-03,  4.1830e-04, -4.4014e-03, -6.1410e-03,  1.5319e-03,\n",
      "         1.5989e-03, -1.4244e-03, -1.5092e-03,  3.3541e-03, -5.2311e-04,\n",
      "        -1.2542e-03, -5.0537e-03,  1.1277e-03, -2.9023e-03, -1.0298e-03,\n",
      "        -1.1581e-03,  2.8446e-03, -3.8496e-03,  4.1156e-05,  1.7196e-03,\n",
      "         5.9722e-04,  1.5414e-03, -8.7085e-05, -5.9369e-04,  7.3310e-04,\n",
      "         8.8477e-04, -1.5803e-03, -3.8754e-03, -4.0925e-03, -3.2710e-03,\n",
      "        -8.6867e-04,  1.6581e-03, -2.9445e-03,  5.2013e-03, -1.1931e-03,\n",
      "        -2.0687e-03, -1.5972e-03,  2.5857e-03, -2.8185e-03,  3.2488e-03,\n",
      "        -2.4629e-03, -8.7896e-04,  3.9123e-04, -2.7489e-03, -1.5357e-03,\n",
      "        -5.5435e-04,  1.2042e-03, -4.0747e-03,  5.3551e-03,  1.5038e-03,\n",
      "         4.9620e-03, -1.0725e-03, -2.1226e-03,  2.2049e-03, -2.8812e-03,\n",
      "        -3.1080e-03, -2.7992e-03, -4.1841e-03, -2.0507e-03,  1.2671e-03,\n",
      "        -6.6724e-03, -7.9326e-04, -7.0753e-03,  2.8694e-03,  7.6432e-05,\n",
      "         2.5759e-03, -2.3499e-03,  3.6621e-03,  2.8075e-03, -5.0234e-03,\n",
      "        -1.7796e-03,  9.2477e-04, -3.4285e-03,  1.1285e-03, -8.7071e-04,\n",
      "        -1.7619e-04, -1.8820e-03,  1.4271e-03, -4.7180e-03, -9.5811e-04,\n",
      "         2.0503e-04,  3.4255e-04,  4.4980e-03, -1.3470e-03, -1.3496e-03,\n",
      "         2.1708e-03,  1.2868e-03, -2.3226e-03, -6.2015e-03, -1.8160e-03,\n",
      "         1.0738e-03,  2.8610e-03, -9.6583e-04,  3.7627e-03,  2.6687e-03,\n",
      "        -2.4074e-03,  3.3754e-03, -3.5401e-04,  1.3707e-03, -3.1215e-03,\n",
      "        -1.6345e-03,  3.9903e-04,  1.9705e-03, -2.9079e-04,  1.1453e-03,\n",
      "        -9.7418e-04, -2.6760e-04, -2.3596e-04,  2.1138e-03, -1.5369e-03,\n",
      "         9.4645e-04,  2.9610e-03,  1.8872e-04, -7.1072e-03,  2.4522e-03,\n",
      "        -1.5299e-03, -2.2911e-03, -2.3027e-03, -2.6988e-03, -2.2428e-03,\n",
      "        -3.4037e-03,  2.8795e-03,  9.1169e-03,  1.3605e-03, -6.4381e-04,\n",
      "         1.0531e-03,  3.7011e-03, -2.1590e-03,  3.2752e-04, -2.8766e-03,\n",
      "         3.6689e-03, -5.4941e-04, -4.1743e-03, -1.0313e-03,  1.7975e-03,\n",
      "         1.3316e-03,  2.1077e-03, -3.3576e-03,  2.9499e-03, -1.3968e-03,\n",
      "         1.7264e-03,  4.1018e-03, -1.3049e-03, -2.7807e-03,  5.2168e-03,\n",
      "        -4.1165e-03,  1.1399e-03, -1.0802e-06, -2.3978e-03, -2.0186e-03,\n",
      "         3.3683e-04,  2.3614e-03,  2.0498e-03, -4.4640e-03, -4.0686e-03,\n",
      "        -1.1507e-03,  2.5046e-03, -4.6124e-04,  2.0562e-03, -1.8190e-03,\n",
      "        -1.8373e-03,  2.9624e-03,  3.5451e-03, -5.8341e-03, -6.6740e-03,\n",
      "        -4.9989e-04,  5.7408e-03, -1.0844e-03,  6.0638e-03, -1.6862e-03,\n",
      "         3.9788e-03,  1.8485e-03,  1.3412e-03, -1.8928e-03,  5.3428e-03,\n",
      "         1.9501e-03,  1.0091e-03, -3.6751e-03, -3.3340e-04, -3.1196e-03,\n",
      "         1.7161e-03, -2.9494e-03, -6.3958e-04,  2.3245e-03, -1.4082e-03,\n",
      "        -8.2323e-04, -1.8997e-03,  4.1161e-03, -2.7194e-03, -9.4513e-04,\n",
      "        -3.8307e-03,  2.0663e-03,  1.5092e-03, -2.5701e-03, -2.8814e-03,\n",
      "         2.2655e-03, -1.1983e-03,  1.6552e-03,  1.1070e-03,  3.6001e-03,\n",
      "         1.4309e-03,  4.1926e-04, -1.6617e-03, -6.3465e-03,  4.6357e-03,\n",
      "        -6.8329e-03, -3.7740e-03], requires_grad=True)\n",
      "Parameter containing:\n",
      "tensor([[ 0.0011,  0.0011,  0.0028,  ..., -0.0003, -0.0036, -0.0067],\n",
      "        [-0.0041,  0.0048,  0.0017,  ..., -0.0034, -0.0044,  0.0007],\n",
      "        [ 0.0048, -0.0022, -0.0035,  ...,  0.0050,  0.0042,  0.0049],\n",
      "        ...,\n",
      "        [ 0.0035, -0.0063, -0.0013,  ...,  0.0005,  0.0036, -0.0043],\n",
      "        [-0.0063, -0.0060,  0.0065,  ...,  0.0027, -0.0041,  0.0079],\n",
      "        [-0.0028, -0.0029,  0.0081,  ..., -0.0011, -0.0044, -0.0002]],\n",
      "       requires_grad=True)\n"
     ]
    }
   ],
   "source": [
    "for param in model.conv.parameters():\n",
    "    print(param)"
   ]
  }
 ],
 "metadata": {
  "kernelspec": {
   "display_name": "torch_pip",
   "language": "python",
   "name": "torch_pip"
  },
  "language_info": {
   "codemirror_mode": {
    "name": "ipython",
    "version": 3
   },
   "file_extension": ".py",
   "mimetype": "text/x-python",
   "name": "python",
   "nbconvert_exporter": "python",
   "pygments_lexer": "ipython3",
   "version": "3.7.3"
  }
 },
 "nbformat": 4,
 "nbformat_minor": 2
}
