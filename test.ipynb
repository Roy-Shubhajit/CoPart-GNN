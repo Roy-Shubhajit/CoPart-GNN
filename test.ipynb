{
 "cells": [
  {
   "cell_type": "code",
   "execution_count": 1,
   "metadata": {},
   "outputs": [],
   "source": [
    "import argparse\n",
    "import torch.nn.functional as F\n",
    "import torch\n",
    "from torch import tensor\n",
    "from network import Net1, TransferNet\n",
    "import numpy as np\n",
    "from utils import load_data, coarsening, create_distribution_tensor\n",
    "import os\n",
    "from tqdm import tqdm\n",
    "import time\n",
    "from torch_geometric.loader import DataLoader"
   ]
  },
  {
   "cell_type": "code",
   "execution_count": 2,
   "metadata": {},
   "outputs": [
    {
     "data": {
      "text/plain": [
       "_StoreAction(option_strings=['--coarsening_method'], dest='coarsening_method', nargs=None, const=None, default='algebraic_JC', type=<class 'str'>, choices=None, help=None, metavar=None)"
      ]
     },
     "execution_count": 2,
     "metadata": {},
     "output_type": "execute_result"
    }
   ],
   "source": [
    "parser = argparse.ArgumentParser()\n",
    "parser.add_argument('--dataset', type=str, default='cora')\n",
    "parser.add_argument('--experiment', type=str, default='fixed') #'fixed', 'random', 'few'\n",
    "parser.add_argument('--runs', type=int, default=20)\n",
    "parser.add_argument('--hidden', type=int, default=512)\n",
    "parser.add_argument('--epochs1', type=int, default=50)\n",
    "parser.add_argument('--epochs2', type=int, default=100)\n",
    "parser.add_argument('--num_layers1', type=int, default=2)\n",
    "parser.add_argument('--num_layers2', type=int, default=2)\n",
    "parser.add_argument('--batch_size', type=int, default=128)\n",
    "parser.add_argument('--early_stopping', type=int, default=10)\n",
    "parser.add_argument('--extra_node', type=bool, default=False)\n",
    "parser.add_argument('--lr', type=float, default=0.01)\n",
    "parser.add_argument('--weight_decay', type=float, default=0.0005)\n",
    "parser.add_argument('--normalize_features', type=bool, default=True)\n",
    "parser.add_argument('--coarsening_ratio', type=float, default=0.1)\n",
    "parser.add_argument('--coarsening_method', type=str, default='algebraic_JC') #'variation_neighborhoods', 'variation_edges', 'variation_cliques', 'heavy_edge', 'algebraic_JC', 'affinity_GS', 'kron'\n",
    "#parser.add_argument('--output_dir', type=str, required=True)"
   ]
  },
  {
   "cell_type": "code",
   "execution_count": 3,
   "metadata": {},
   "outputs": [],
   "source": [
    "import sys\n",
    "sys.argv = ['']"
   ]
  },
  {
   "cell_type": "code",
   "execution_count": 4,
   "metadata": {},
   "outputs": [],
   "source": [
    "args = parser.parse_args()"
   ]
  },
  {
   "cell_type": "code",
   "execution_count": 5,
   "metadata": {},
   "outputs": [
    {
     "name": "stdout",
     "output_type": "stream",
     "text": [
      "Subgraphs created, number of subgraphs:  441\n",
      "num_features: 1433, num_classes: 7\n",
      "Number of components: 78\n"
     ]
    }
   ],
   "source": [
    "args.num_features, args.num_classes, candidate, C_list, Gc_list, subgraph_list = coarsening(args, 1-args.coarsening_ratio, args.coarsening_method)\n",
    "print('num_features: {}, num_classes: {}'.format(args.num_features, args.num_classes))\n",
    "print('Number of components: {}'.format(len(candidate)))"
   ]
  },
  {
   "cell_type": "code",
   "execution_count": 6,
   "metadata": {},
   "outputs": [
    {
     "data": {
      "text/plain": [
       "Data(\n",
       "  x=[4, 1433],\n",
       "  edge_index=[2, 4],\n",
       "  y=[4],\n",
       "  train_mask=[4],\n",
       "  val_mask=[4],\n",
       "  test_mask=[4],\n",
       "  num_classes=7,\n",
       "  map_dict={\n",
       "    0=0,\n",
       "    383=1,\n",
       "    1862=2,\n",
       "    2268=3\n",
       "  },\n",
       "  ext_node=[0]\n",
       ")"
      ]
     },
     "execution_count": 6,
     "metadata": {},
     "output_type": "execute_result"
    }
   ],
   "source": [
    "subgraph_list[0]"
   ]
  },
  {
   "cell_type": "code",
   "execution_count": 7,
   "metadata": {},
   "outputs": [
    {
     "name": "stdout",
     "output_type": "stream",
     "text": [
      "the size of coarsen graph features: torch.Size([362, 1433])\n"
     ]
    }
   ],
   "source": [
    "coarsen_features, coarsen_train_labels, coarsen_train_mask, coarsen_val_labels, coarsen_val_mask, coarsen_edge, graphs = load_data(args.dataset, candidate, C_list, Gc_list, args.experiment, subgraph_list)\n",
    "graph_data = DataLoader(graphs, batch_size=1, shuffle=True)  "
   ]
  },
  {
   "cell_type": "code",
   "execution_count": 8,
   "metadata": {},
   "outputs": [
    {
     "data": {
      "image/png": "[encoded data removed]",
      "text/plain": [
       "<Figure size 640x480 with 1 Axes>"
      ]
     },
     "metadata": {},
     "output_type": "display_data"
    },
    {
     "name": "stdout",
     "output_type": "stream",
     "text": [
      "2708\n"
     ]
    }
   ],
   "source": [
    "#plot thehistogram of the number of nodes in each subgraph_list\n",
    "import matplotlib.pyplot as plt\n",
    "plt.hist([subgraph.num_nodes for subgraph in graph_data], bins=100)\n",
    "plt.show()\n",
    "print(sum([subgraph.num_nodes for subgraph in graph_data]))\n"
   ]
  },
  {
   "cell_type": "code",
   "execution_count": 9,
   "metadata": {},
   "outputs": [
    {
     "data": {
      "image/png": "[encoded data removed]",
      "text/plain": [
       "<Figure size 640x480 with 1 Axes>"
      ]
     },
     "metadata": {},
     "output_type": "display_data"
    },
    {
     "name": "stdout",
     "output_type": "stream",
     "text": [
      "2016\n"
     ]
    }
   ],
   "source": [
    "import matplotlib.pyplot as plt\n",
    "plt.hist([subgraph.num_edges for subgraph in graph_data], bins=100)\n",
    "plt.show()\n",
    "print(sum([subgraph.num_edges for subgraph in graph_data]))"
   ]
  }
 ],
 "metadata": {
  "kernelspec": {
   "display_name": "torch_pip",
   "language": "python",
   "name": "torch_pip"
  },
  "language_info": {
   "codemirror_mode": {
    "name": "ipython",
    "version": 3
   },
   "file_extension": ".py",
   "mimetype": "text/x-python",
   "name": "python",
   "nbconvert_exporter": "python",
   "pygments_lexer": "ipython3",
   "version": "3.7.3"
  }
 },
 "nbformat": 4,
 "nbformat_minor": 2
}
