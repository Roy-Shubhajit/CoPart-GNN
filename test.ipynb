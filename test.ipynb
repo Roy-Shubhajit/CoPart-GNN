{
 "cells": [
  {
   "cell_type": "code",
   "execution_count": 17,
   "metadata": {},
   "outputs": [],
   "source": [
    "from torch_geometric.data import Data\n",
    "import torch\n",
    "import numpy as np\n",
    "from torch_geometric.utils import to_undirected"
   ]
  },
  {
   "cell_type": "code",
   "execution_count": 18,
   "metadata": {},
   "outputs": [],
   "source": [
    "edge_index = torch.tensor([[3,5,6,2,4],[5,3,2,6,6]],dtype=torch.long)\n",
    "x = torch.tensor([[1,2,3],[4,5,6],[7,8,9],[10,11,12],[13,14,15],[1,33,4],[12, 4, 2]],dtype=torch.float)\n",
    "y = torch.tensor([0,1,0,1,0,0,1],dtype=torch.long)\n",
    "edge_index = to_undirected(edge_index)\n",
    "data = Data(x=x,edge_index=edge_index,y=y)"
   ]
  },
  {
   "cell_type": "code",
   "execution_count": 19,
   "metadata": {},
   "outputs": [
    {
     "data": {
      "image/png": "[encoded data removed]",
      "text/plain": [
       "<Figure size 500x500 with 1 Axes>"
      ]
     },
     "metadata": {},
     "output_type": "display_data"
    }
   ],
   "source": [
    "#convert graph to networkx\n",
    "import networkx as nx\n",
    "import matplotlib.pyplot as plt\n",
    "from torch_geometric.utils import to_networkx\n",
    "\n",
    "#convert to networkx with node attributes\n",
    "G = to_networkx(data, to_undirected=True)\n",
    "#plot\n",
    "plt.figure(figsize=(5,5))\n",
    "pos = nx.spring_layout(G)\n",
    "nx.draw(G,pos,node_size=10,node_color='lightblue',with_labels=True)\n",
    "plt.title('Graph')\n",
    "plt.show()\n"
   ]
  },
  {
   "cell_type": "code",
   "execution_count": 13,
   "metadata": {},
   "outputs": [],
   "source": [
    "from torch_geometric.utils import *\n",
    "\n",
    "H = subgraph(edge_index=data.edge_index, subset=[[1,2,4,6]], relabel_nodes=False)"
   ]
  },
  {
   "cell_type": "code",
   "execution_count": 20,
   "metadata": {},
   "outputs": [],
   "source": [
    "H = data.subgraph(torch.tensor([1,2,4,6]))"
   ]
  },
  {
   "cell_type": "code",
   "execution_count": 21,
   "metadata": {},
   "outputs": [
    {
     "data": {
      "text/plain": [
       "tensor([[2, 3, 4, 5, 6, 6],\n",
       "        [6, 5, 6, 3, 2, 4]])"
      ]
     },
     "execution_count": 21,
     "metadata": {},
     "output_type": "execute_result"
    }
   ],
   "source": [
    "data.edge_index"
   ]
  },
  {
   "cell_type": "code",
   "execution_count": 22,
   "metadata": {},
   "outputs": [
    {
     "data": {
      "text/plain": [
       "tensor([[1, 2, 3, 3],\n",
       "        [3, 3, 1, 2]])"
      ]
     },
     "execution_count": 22,
     "metadata": {},
     "output_type": "execute_result"
    }
   ],
   "source": [
    "H.edge_index"
   ]
  },
  {
   "cell_type": "code",
   "execution_count": 14,
   "metadata": {},
   "outputs": [
    {
     "data": {
      "text/plain": [
       "tensor([[3, 5, 6, 2, 4],\n",
       "        [5, 3, 2, 6, 6]])"
      ]
     },
     "execution_count": 14,
     "metadata": {},
     "output_type": "execute_result"
    }
   ],
   "source": [
    "data.edge_index"
   ]
  },
  {
   "cell_type": "code",
   "execution_count": 15,
   "metadata": {},
   "outputs": [
    {
     "data": {
      "text/plain": [
       "(tensor([[6, 2, 4],\n",
       "         [2, 6, 6]]),\n",
       " None)"
      ]
     },
     "execution_count": 15,
     "metadata": {},
     "output_type": "execute_result"
    }
   ],
   "source": [
    "H"
   ]
  },
  {
   "cell_type": "code",
   "execution_count": 16,
   "metadata": {},
   "outputs": [
    {
     "data": {
      "text/plain": [
       "tensor([[ 1.,  2.,  3.],\n",
       "        [ 4.,  5.,  6.],\n",
       "        [ 7.,  8.,  9.],\n",
       "        [10., 11., 12.],\n",
       "        [13., 14., 15.],\n",
       "        [ 1., 33.,  4.],\n",
       "        [12.,  4.,  2.]])"
      ]
     },
     "execution_count": 16,
     "metadata": {},
     "output_type": "execute_result"
    }
   ],
   "source": [
    "data.x"
   ]
  },
  {
   "cell_type": "code",
   "execution_count": 17,
   "metadata": {},
   "outputs": [
    {
     "data": {
      "text/plain": [
       "tensor([[ 4.,  5.,  6.],\n",
       "        [ 7.,  8.,  9.],\n",
       "        [13., 14., 15.],\n",
       "        [12.,  4.,  2.]])"
      ]
     },
     "execution_count": 17,
     "metadata": {},
     "output_type": "execute_result"
    }
   ],
   "source": [
    "#create a new x tensor with node 1,2,4,6\n",
    "data.x[[1,2,4,6]]\n"
   ]
  },
  {
   "cell_type": "code",
   "execution_count": 18,
   "metadata": {},
   "outputs": [],
   "source": [
    "list_of_nodes = [1,2,4,6]\n",
    "#convert to numpy ndarray\n",
    "import numpy as np\n",
    "list_of_nodes = np.array(list_of_nodes)"
   ]
  },
  {
   "cell_type": "code",
   "execution_count": 13,
   "metadata": {},
   "outputs": [
    {
     "data": {
      "text/plain": [
       "True"
      ]
     },
     "execution_count": 13,
     "metadata": {},
     "output_type": "execute_result"
    }
   ],
   "source": [
    "A = [1, 2, 4, 5, 7]\n",
    "B = [0, 6, 3, 2]\n",
    "any(j in A for j in B)"
   ]
  },
  {
   "cell_type": "code",
   "execution_count": 17,
   "metadata": {},
   "outputs": [
    {
     "data": {
      "text/plain": [
       "2"
      ]
     },
     "execution_count": 17,
     "metadata": {},
     "output_type": "execute_result"
    }
   ],
   "source": [
    "#Find which is common in A and B\n",
    "import numpy as np\n",
    "np.intersect1d(A,B).item() "
   ]
  },
  {
   "cell_type": "code",
   "execution_count": 29,
   "metadata": {},
   "outputs": [
    {
     "name": "stdout",
     "output_type": "stream",
     "text": [
      "Original function execution time: 0.0003380775451660156\n",
      "Optimized GPU function execution time: 0.00018143653869628906\n"
     ]
    }
   ],
   "source": [
    "import time\n",
    "import torch\n",
    "from torch_geometric.data import Data\n",
    "\n",
    "# Original function\n",
    "\n",
    "def neighbors_cpu(G, nodes):\n",
    "    if not hasattr(G, 'edge_index'):\n",
    "        raise ValueError(\"The input graph must have the 'edge_index' attribute.\")\n",
    "\n",
    "    # Convert nodes to a tensor if it's not already\n",
    "    if not isinstance(nodes, torch.Tensor):\n",
    "        nodes = torch.tensor(nodes)\n",
    "\n",
    "    # Ensure nodes tensor is on CPU\n",
    "    nodes = nodes.cpu()\n",
    "\n",
    "    # Ensure edge_index tensor is on CPU\n",
    "    edge_index_cpu = G.edge_index.cpu()\n",
    "\n",
    "    # Find edges connected to the given nodes using broadcasting\n",
    "    mask = (edge_index_cpu[0] == nodes.unsqueeze(-1)).any(dim=0)\n",
    "    edges_connected_to_nodes = edge_index_cpu[:, mask]\n",
    "\n",
    "    # Extract neighboring nodes\n",
    "    neighbors = torch.unique(edges_connected_to_nodes[1])\n",
    "\n",
    "    return neighbors.tolist()\n",
    "# Optimized GPU function\n",
    "def neighbors_gpu(G, nodes):\n",
    "    if not hasattr(G, 'edge_index'):\n",
    "        raise ValueError(\"The input graph must have the 'edge_index' attribute.\")\n",
    "\n",
    "    # Convert nodes to a tensor if it's not already\n",
    "    if not isinstance(nodes, torch.Tensor):\n",
    "        nodes = torch.tensor(nodes)\n",
    "\n",
    "    # Ensure nodes tensor is on GPU\n",
    "    nodes = nodes.to(G.edge_index.device)\n",
    "\n",
    "    # Ensure edge_index tensor is on GPU\n",
    "    edge_index_gpu = G.edge_index.to(nodes.device)\n",
    "\n",
    "    # Find edges connected to the given nodes using broadcasting\n",
    "    mask = (edge_index_gpu[0] == nodes.unsqueeze(-1)).any(dim=0)\n",
    "    edges_connected_to_nodes = edge_index_gpu[:, mask]\n",
    "\n",
    "    # Extract neighboring nodes\n",
    "    neighbors = torch.unique(edges_connected_to_nodes[1])\n",
    "\n",
    "    return neighbors.tolist() # Move the result back to CPU and convert to list\n",
    "\n",
    "# Create a random graph with more nodes and edges\n",
    "num_nodes = 10\n",
    "edge_index = torch.randint(0, num_nodes, (2, 2*num_nodes))\n",
    "\n",
    "#convert G to undirected graph\n",
    "from torch_geometric.utils import to_undirected\n",
    "edge_index = to_undirected(edge_index)\n",
    "G = Data(edge_index=edge_index)\n",
    "from torch_geometric.datasets import Planetoid\n",
    "dataset = Planetoid(root='./dataset', name='cora')\n",
    "#G = dataset[0]\n",
    "# Choose a node for testing\n",
    "node = [0]\n",
    "\n",
    "# Measure execution time for the original function\n",
    "start_time = time.time()\n",
    "neighbours_original = neighbors_cpu(G, node)\n",
    "original_time = time.time() - start_time\n",
    "\n",
    "# Measure execution time for the optimized GPU function\n",
    "start_time = time.time()\n",
    "neighbours_optimized_gpu = neighbors_gpu(G, node)\n",
    "optimized_gpu_time = time.time() - start_time\n",
    "\n",
    "print(\"Original function execution time:\", original_time)\n",
    "print(\"Optimized GPU function execution time:\", optimized_gpu_time)\n"
   ]
  },
  {
   "cell_type": "code",
   "execution_count": 30,
   "metadata": {},
   "outputs": [
    {
     "data": {
      "text/plain": [
       "([2, 6, 7], [2, 6, 7])"
      ]
     },
     "execution_count": 30,
     "metadata": {},
     "output_type": "execute_result"
    }
   ],
   "source": [
    "neighbours_optimized_gpu, neighbours_original"
   ]
  },
  {
   "cell_type": "code",
   "execution_count": 35,
   "metadata": {},
   "outputs": [],
   "source": [
    "# Create tensors A and B\n",
    "A = torch.tensor([1, 2, 4, 5])\n",
    "B = torch.tensor([3, 4, 6])\n",
    "\n",
    "# Concatenate tensors A and B along dimension 0\n",
    "C = torch.cat((A, B), dim=0)"
   ]
  },
  {
   "cell_type": "code",
   "execution_count": 38,
   "metadata": {},
   "outputs": [
    {
     "ename": "AttributeError",
     "evalue": "'Tensor' object has no attribute 'isin'",
     "output_type": "error",
     "traceback": [
      "\u001b[0;31m---------------------------------------------------------------------------\u001b[0m",
      "\u001b[0;31mAttributeError\u001b[0m                            Traceback (most recent call last)",
      "\u001b[0;32m/tmp/ipykernel_30686/747649567.py\u001b[0m in \u001b[0;36m<module>\u001b[0;34m\u001b[0m\n\u001b[1;32m      1\u001b[0m \u001b[0;31m#elements in B which are not in A\u001b[0m\u001b[0;34m\u001b[0m\u001b[0;34m\u001b[0m\u001b[0;34m\u001b[0m\u001b[0m\n\u001b[0;32m----> 2\u001b[0;31m \u001b[0mD\u001b[0m \u001b[0;34m=\u001b[0m \u001b[0mB\u001b[0m\u001b[0;34m[\u001b[0m\u001b[0;34m~\u001b[0m\u001b[0mB\u001b[0m\u001b[0;34m.\u001b[0m\u001b[0misin\u001b[0m\u001b[0;34m(\u001b[0m\u001b[0mA\u001b[0m\u001b[0;34m)\u001b[0m\u001b[0;34m]\u001b[0m\u001b[0;34m\u001b[0m\u001b[0;34m\u001b[0m\u001b[0m\n\u001b[0m\u001b[1;32m      3\u001b[0m \u001b[0mD\u001b[0m\u001b[0;34m\u001b[0m\u001b[0;34m\u001b[0m\u001b[0m\n",
      "\u001b[0;31mAttributeError\u001b[0m: 'Tensor' object has no attribute 'isin'"
     ]
    }
   ],
   "source": [
    "#elements in B which are not in A\n",
    "D = B[~B.isin(A)]\n",
    "D"
   ]
  },
  {
   "cell_type": "code",
   "execution_count": 39,
   "metadata": {},
   "outputs": [
    {
     "name": "stdout",
     "output_type": "stream",
     "text": [
      "tensor([3, 6])\n"
     ]
    }
   ],
   "source": [
    "import torch\n",
    "\n",
    "A = torch.tensor([1, 2, 4, 5])\n",
    "B = torch.tensor([3, 4, 6])\n",
    "\n",
    "# Find elements in B that are not in A\n",
    "not_in_A = B[~torch.isin(B, A)]\n",
    "\n",
    "print(not_in_A)\n"
   ]
  }
 ],
 "metadata": {
  "kernelspec": {
   "display_name": "torch_pip",
   "language": "python",
   "name": "torch_pip"
  },
  "language_info": {
   "codemirror_mode": {
    "name": "ipython",
    "version": 3
   },
   "file_extension": ".py",
   "mimetype": "text/x-python",
   "name": "python",
   "nbconvert_exporter": "python",
   "pygments_lexer": "ipython3",
   "version": "3.7.3"
  }
 },
 "nbformat": 4,
 "nbformat_minor": 2
}
