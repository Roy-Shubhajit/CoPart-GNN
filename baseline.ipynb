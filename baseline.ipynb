{
 "cells": [
  {
   "cell_type": "code",
   "execution_count": 1,
   "metadata": {},
   "outputs": [
    {
     "data": {
      "text/plain": [
       "device(type='cuda')"
      ]
     },
     "execution_count": 1,
     "metadata": {},
     "output_type": "execute_result"
    }
   ],
   "source": [
    "import os\n",
    "import time\n",
    "import torch\n",
    "import numpy as np\n",
    "from network import Net1, Net2\n",
    "import torch.nn.functional as F\n",
    "from utils import splits_regression\n",
    "from torch_geometric.loader import DataLoader\n",
    "from torch_geometric.datasets import WikipediaNetwork\n",
    "device = torch.device('cuda' if torch.cuda.is_available() else 'cpu')\n",
    "device"
   ]
  },
  {
   "cell_type": "code",
   "execution_count": 2,
   "metadata": {},
   "outputs": [],
   "source": [
    "import torch.nn.functional as F\n",
    "from torch_geometric.nn import GCNConv\n",
    "\n",
    "class Net2(torch.nn.Module):\n",
    "    def __init__(self, num_features, hidden, num_layers):\n",
    "        super(Net2, self).__init__()\n",
    "        self.num_layers = num_layers\n",
    "        self.conv = torch.nn.ModuleList()\n",
    "        self.conv.append(GCNConv(num_features, hidden))\n",
    "        for i in range(self.num_layers - 1):\n",
    "            self.conv.append(GCNConv(hidden, hidden))\n",
    "        self.lt1 = torch.nn.Linear(hidden, 1)\n",
    "\n",
    "    def reset_parameters(self):\n",
    "        for module in self.conv:\n",
    "            module.reset_parameters()\n",
    "        self.lt1.reset_parameters()\n",
    "\n",
    "    def forward(self, x, edge_index):\n",
    "        for i in range(self.num_layers):\n",
    "            x = self.conv[i](x, edge_index)\n",
    "            x = F.elu(x)\n",
    "            x = F.dropout(x, training=self.training)\n",
    "        x = self.lt1(x)\n",
    "        return x"
   ]
  },
  {
   "cell_type": "code",
   "execution_count": 4,
   "metadata": {},
   "outputs": [
    {
     "name": "stdout",
     "output_type": "stream",
     "text": [
      "##########chameleon##########\n",
      "[0.5542109280863412, 0.5476571426535451, 0.5821994771802472, 0.5656288211347624, 0.5576801371026772, 0.5880737951240456, 0.5954102625255281, 0.5708912008041599, 0.5532072312932941, 0.5585349689989131, 0.5513660720310137, 0.5777760074323333, 0.5569076429709826, 0.5558179897827686, 0.5339317323620706, 0.5733611110554399, 0.5622672802973467, 0.5330684384372949, 0.5532056724985631, 0.5465342537348165]\n",
      "0.5608865082753073\n",
      "0.002548110485076904\n",
      "##########squirrel##########\n",
      "[0.6468659435179561, 0.6665409743062363, 0.6570845787301263, 0.6499941530666998, 0.6515432896918232, 0.6638391565447899, 0.6509730967563887, 0.6597220468142232, 0.6461966534158452, 0.6487787259833039, 0.6539380599273911, 0.6496815593069479, 0.6534733790797395, 0.6578310483517996, 0.6491654254462547, 0.6625796268787867, 0.6419095482759566, 0.6717810961630085, 0.6683477769291372, 0.6521001182082858]\n",
      "0.655117312869735\n",
      "0.006338047981262207\n",
      "##########crocodile##########\n",
      "[0.40969306639895303, 0.3827401742005872, 0.38820435346107224, 0.37871009594211535, 0.38643443021878066, 0.41282421906664984, 0.37461256259478193, 0.38066668984747276, 0.4144838837559374, 0.39562272223479317, 0.37355819701663023, 0.39515893877424196, 0.39450917161980253, 0.3856014272471634, 0.39056509661798733, 0.3776038906129467, 0.4047579326708907, 0.4011026225206886, 0.380981057511897, 0.40249196483859234]\n",
      "0.3915161248575992\n",
      "0.00622786283493042\n"
     ]
    }
   ],
   "source": [
    "dataset_names = ['chameleon', \"squirrel\", \"crocodile\"]\n",
    "for dataset_name in dataset_names:\n",
    "    dataset = WikipediaNetwork(root='./dataset', name=dataset_name, geom_gcn_preprocess=False)\n",
    "    data = splits_regression(dataset[0], 0.2, 0.3)\n",
    "    model = Net2(data.x.shape[1], 512, 2).to(device)\n",
    "    loss_fn = torch.nn.L1Loss()\n",
    "    model.reset_parameters()\n",
    "    optimizer = torch.optim.Adam(model.parameters(), lr=0.01, weight_decay=5e-4)\n",
    "    all_loss = []\n",
    "    avg_time = 0\n",
    "    for run in range(20):\n",
    "        best_val_loss = 100000\n",
    "        model.reset_parameters()\n",
    "        data = data.to(device)\n",
    "        for epoch in range(100):\n",
    "            model.train()\n",
    "            optimizer.zero_grad()\n",
    "            out = model(data.x, data.edge_index)\n",
    "            loss = loss_fn(out[data.train_mask].view(-1, 1), data.y[data.train_mask].view(-1, 1))\n",
    "            loss.backward()\n",
    "            optimizer.step()\n",
    "\n",
    "            model.eval()\n",
    "            with torch.no_grad():\n",
    "                out = model(data.x, data.edge_index)\n",
    "                val_loss = loss_fn(out[data.val_mask].view(-1, 1), data.y[data.val_mask].view(-1, 1))\n",
    "                if val_loss < best_val_loss:\n",
    "                    best_val_loss = val_loss\n",
    "                    #save model\n",
    "                    torch.save(model.state_dict(), f'save/node_regr_3/baselines/{dataset_name}_baseline_model.pt')\n",
    "        start = time.time()\n",
    "        out = model(data.x, data.edge_index)\n",
    "        avg_time += time.time() - start\n",
    "        test_loss = loss_fn(out[data.test_mask].view(-1, 1), data.y[data.test_mask].view(-1, 1))\n",
    "        all_loss.append(test_loss.item()/data.y[data.test_mask].std().item())\n",
    "\n",
    "    print(f\"##########{dataset_name}##########\")\n",
    "    print(all_loss)\n",
    "    print(sum(all_loss)/len(all_loss))\n",
    "    print(avg_time/20)\n",
    "    top_loss = sorted(all_loss)[:10]\n",
    "\n",
    "    if not os.path.exists(f\"results_3/baselines.csv\"):\n",
    "        with open(f\"results_3/baelines.csv\", 'w') as f:\n",
    "            f.write('dataset,hidden,runs,num_layers,lr,avg_time,top_10_loss,best_loss\\n')\n",
    "\n",
    "    with open(f\"results_3/baselines.csv\", 'a') as f:\n",
    "        f.write(f\"{dataset_name},512,20,2,0.01,{avg_time/20},{np.mean(top_loss)} +/- {np.std(top_loss)},{top_loss[0]}\\n\")"
   ]
  }
 ],
 "metadata": {
  "kernelspec": {
   "display_name": ".venv",
   "language": "python",
   "name": "python3"
  },
  "language_info": {
   "codemirror_mode": {
    "name": "ipython",
    "version": 3
   },
   "file_extension": ".py",
   "mimetype": "text/x-python",
   "name": "python",
   "nbconvert_exporter": "python",
   "pygments_lexer": "ipython3",
   "version": "3.10.11"
  }
 },
 "nbformat": 4,
 "nbformat_minor": 2
}
