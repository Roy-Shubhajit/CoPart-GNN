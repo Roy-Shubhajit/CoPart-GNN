{
 "cells": [
  {
   "cell_type": "code",
   "execution_count": 8,
   "metadata": {},
   "outputs": [
    {
     "data": {
      "text/plain": [
       "device(type='cuda')"
      ]
     },
     "execution_count": 8,
     "metadata": {},
     "output_type": "execute_result"
    }
   ],
   "source": [
    "import os\n",
    "import time\n",
    "import torch\n",
    "import numpy as np\n",
    "from network import Net1, Net2\n",
    "import torch.nn.functional as F\n",
    "from utils import splits_regression\n",
    "from torch_geometric.loader import DataLoader\n",
    "from torch_geometric.datasets import WikipediaNetwork\n",
    "device = torch.device('cuda' if torch.cuda.is_available() else 'cpu')\n",
    "device"
   ]
  },
  {
   "cell_type": "code",
   "execution_count": 9,
   "metadata": {},
   "outputs": [],
   "source": [
    "import torch.nn.functional as F\n",
    "from torch_geometric.nn import GCNConv\n",
    "\n",
    "class Net2(torch.nn.Module):\n",
    "    def __init__(self, num_features, hidden, num_layers):\n",
    "        super(Net2, self).__init__()\n",
    "        self.num_layers = num_layers\n",
    "        self.conv = torch.nn.ModuleList()\n",
    "        self.conv.append(GCNConv(num_features, hidden))\n",
    "        for i in range(self.num_layers - 1):\n",
    "            self.conv.append(GCNConv(hidden, hidden))\n",
    "        self.lt1 = torch.nn.Linear(hidden, 1)\n",
    "\n",
    "    def reset_parameters(self):\n",
    "        for module in self.conv:\n",
    "            module.reset_parameters()\n",
    "        self.lt1.reset_parameters()\n",
    "\n",
    "    def forward(self, x, edge_index):\n",
    "        for i in range(self.num_layers):\n",
    "            x = self.conv[i](x, edge_index)\n",
    "            x = F.elu(x)\n",
    "            x = F.dropout(x, training=self.training)\n",
    "        x = self.lt1(x)\n",
    "        return x"
   ]
  },
  {
   "cell_type": "code",
   "execution_count": 12,
   "metadata": {},
   "outputs": [
    {
     "name": "stdout",
     "output_type": "stream",
     "text": [
      "##########chameleon##########\n",
      "[0.5518204942304205, 0.5725686377116527, 0.527127460376401, 0.6272746001457263, 0.5580381190713856, 0.5374346504036874, 0.5619520844254143, 0.5579015288605618, 0.5334654496870863, 0.5485142874717378, 0.5686058255272631, 0.5509294918618015, 0.5369901103259938, 0.5465972755228081, 0.5841896039471858, 0.5412594024494877, 0.594582954355803, 0.5564494098353093, 0.5638471605292282, 0.625656435818657]\n",
      "0.5622602491278805\n",
      "##########squirrel##########\n",
      "[0.6680730518748575, 0.642920393343751, 0.6377924423482937, 0.6556296501801275, 0.6506518562267309, 0.6636130898487476, 0.6618066017917837, 0.6468744385189505, 0.6663209940531583, 0.6405619529135137, 0.6615383094754239, 0.6792426235860832, 0.6362052323162326, 0.6529953351122001, 0.6469621768086308, 0.6551953591860703, 0.6611102468167451, 0.6574498811945026, 0.6664678338296369, 0.6619160715559912]\n",
      "0.6556663770490715\n",
      "##########crocodile##########\n",
      "[0.4310035272274854, 0.376981601345508, 0.383104700753609, 0.37368957030948646, 0.4038199164001693, 0.38483797258263125, 0.4223414569744738, 0.44421003828781885, 0.3919523921255728, 0.39468849217258545, 0.3770158325650622, 0.37645238935510833, 0.438679871552743, 0.37863660755347955, 0.40467140799692436, 0.410025517043258, 0.37702307839519356, 0.3926178896562365, 0.40857805591820223, 0.3867189048396604]\n",
      "0.3978524611527604\n"
     ]
    }
   ],
   "source": [
    "dataset_names = ['chameleon', \"squirrel\", \"crocodile\"]\n",
    "for dataset_name in dataset_names:\n",
    "    dataset = WikipediaNetwork(root='./dataset', name=dataset_name, geom_gcn_preprocess=False)\n",
    "    data = splits_regression(dataset[0], 0.2, 0.3)\n",
    "    model = Net2(data.x.shape[1], 512, 2).to(device)\n",
    "    loss_fn = torch.nn.L1Loss()\n",
    "    model.reset_parameters()\n",
    "    optimizer = torch.optim.Adam(model.parameters(), lr=0.01, weight_decay=5e-4)\n",
    "    all_loss = []\n",
    "    for run in range(20):\n",
    "        best_val_loss = 100000\n",
    "        model.reset_parameters()\n",
    "        data = data.to(device)\n",
    "        for epoch in range(100):\n",
    "            model.train()\n",
    "            optimizer.zero_grad()\n",
    "            out = model(data.x, data.edge_index)\n",
    "            loss = loss_fn(out[data.train_mask].view(-1, 1), data.y[data.train_mask].view(-1, 1))\n",
    "            loss.backward()\n",
    "            optimizer.step()\n",
    "\n",
    "            model.eval()\n",
    "            with torch.no_grad():\n",
    "                out = model(data.x, data.edge_index)\n",
    "                val_loss = loss_fn(out[data.val_mask].view(-1, 1), data.y[data.val_mask].view(-1, 1))\n",
    "                if val_loss < best_val_loss:\n",
    "                    best_val_loss = val_loss\n",
    "                    #save model\n",
    "                    torch.save(model.state_dict(), f'save/node_regr_3/baselines/{dataset_name}_baseline_model.pt')\n",
    "            \n",
    "        out = model(data.x, data.edge_index)\n",
    "        test_loss = loss_fn(out[data.test_mask].view(-1, 1), data.y[data.test_mask].view(-1, 1))\n",
    "        all_loss.append(test_loss.item()/data.y[data.test_mask].std().item())\n",
    "\n",
    "    print(f\"##########{dataset_name}##########\")\n",
    "    print(all_loss)\n",
    "    print(sum(all_loss)/len(all_loss))\n",
    "    top_loss = sorted(all_loss)[:10]\n",
    "\n",
    "    if not os.path.exists(f\"results_3/baselines.csv\"):\n",
    "        with open(f\"results_3/baelines.csv\", 'w') as f:\n",
    "            f.write('dataset,hidden,runs,num_layers,lr,top_10_loss,best_loss\\n')\n",
    "\n",
    "    with open(f\"results_3/baselines.csv\", 'a') as f:\n",
    "        f.write(f\"{dataset_name},512,20,2,0.01,{np.mean(top_loss)} +/- {np.std(top_loss)},{top_loss[0]}\\n\")"
   ]
  }
 ],
 "metadata": {
  "kernelspec": {
   "display_name": ".venv",
   "language": "python",
   "name": "python3"
  },
  "language_info": {
   "codemirror_mode": {
    "name": "ipython",
    "version": 3
   },
   "file_extension": ".py",
   "mimetype": "text/x-python",
   "name": "python",
   "nbconvert_exporter": "python",
   "pygments_lexer": "ipython3",
   "version": "3.10.11"
  }
 },
 "nbformat": 4,
 "nbformat_minor": 2
}
