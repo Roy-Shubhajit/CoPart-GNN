{
 "cells": [
  {
   "cell_type": "code",
   "execution_count": 1,
   "metadata": {},
   "outputs": [
    {
     "data": {
      "text/plain": [
       "device(type='cuda')"
      ]
     },
     "execution_count": 1,
     "metadata": {},
     "output_type": "execute_result"
    }
   ],
   "source": [
    "import os\n",
    "import time\n",
    "import torch\n",
    "import numpy as np\n",
    "from network import Net1, Net2\n",
    "import torch.nn.functional as F\n",
    "from utils import splits_regression\n",
    "from torch_geometric.loader import DataLoader\n",
    "from torch_geometric.datasets import WikipediaNetwork\n",
    "device = torch.device('cuda' if torch.cuda.is_available() else 'cpu')\n",
    "device"
   ]
  },
  {
   "cell_type": "code",
   "execution_count": 2,
   "metadata": {},
   "outputs": [],
   "source": [
    "import torch.nn.functional as F\n",
    "from torch_geometric.nn import GCNConv\n",
    "\n",
    "class Net2(torch.nn.Module):\n",
    "    def __init__(self, num_features, hidden, num_layers):\n",
    "        super(Net2, self).__init__()\n",
    "        self.num_layers = num_layers\n",
    "        self.conv = torch.nn.ModuleList()\n",
    "        self.conv.append(GCNConv(num_features, hidden))\n",
    "        for i in range(self.num_layers - 1):\n",
    "            self.conv.append(GCNConv(hidden, hidden))\n",
    "        self.lt1 = torch.nn.Linear(hidden, 1)\n",
    "\n",
    "    def reset_parameters(self):\n",
    "        for module in self.conv:\n",
    "            module.reset_parameters()\n",
    "        self.lt1.reset_parameters()\n",
    "\n",
    "    def forward(self, x, edge_index):\n",
    "        for i in range(self.num_layers):\n",
    "            x = self.conv[i](x, edge_index)\n",
    "            x = F.elu(x)\n",
    "            x = F.dropout(x, training=self.training)\n",
    "        x = self.lt1(x)\n",
    "        return x"
   ]
  },
  {
   "cell_type": "code",
   "execution_count": 3,
   "metadata": {},
   "outputs": [
    {
     "name": "stdout",
     "output_type": "stream",
     "text": [
      "##########chameleon##########\n",
      "[0.5805188905711305, 0.563514104340165, 0.5896040951614686, 0.5796865384435592, 0.6488201057997373, 0.5614945711502958, 0.5613331052866322, 0.5654249120489501, 0.5669812757893047, 0.550476230805993, 0.5703349371762502, 0.5651063799364365, 0.5900131493487745, 0.5731494807629592, 0.5723054146609464, 0.5907345211926696, 0.5550328018781956, 0.5596122509474295, 0.5760935930059323, 0.5677663320576284]\n",
      "0.5744001345182228\n",
      "1.5120256066322326\n",
      "##########squirrel##########\n",
      "[0.6583129494902763, 0.6489266371959453, 0.6639313396271047, 0.6548170256520042, 0.6666118181380352, 0.6689605260292223, 0.66460992699741, 0.6599452829246271, 0.6674846311331104, 0.6504289143488354, 0.6605970758153921, 0.6741779608260587, 0.6517506379319004, 0.6696449532219915, 0.6514133710086617, 0.6564704511510187, 0.6537905909742314, 0.6492191779494899, 0.6493877770592125, 0.6651732981056921]\n",
      "0.6592827172790112\n",
      "4.034725916385651\n",
      "##########crocodile##########\n",
      "[0.4100639721304551, 0.38335334071827115, 0.37574620122520636, 0.4204760525134717, 0.4255383506725934, 0.3884711537764836, 0.40507461053261484, 0.38888533115223356, 0.3821292158824184, 0.3819259098796062, 0.4374296473855573, 0.40061029627694283, 0.38626004116413787, 0.38789871631652145, 0.43764411497316746, 0.4096112752997698, 0.39101189276183745, 0.37818267662368826, 0.41481116196839424, 0.4107211204249223]\n",
      "0.4007922540839147\n",
      "3.8844591856002806\n"
     ]
    }
   ],
   "source": [
    "dataset_names = ['chameleon', \"squirrel\", \"crocodile\"]\n",
    "for dataset_name in dataset_names:\n",
    "    dataset = WikipediaNetwork(root='./dataset', name=dataset_name, geom_gcn_preprocess=False)\n",
    "    data = splits_regression(dataset[0], 0.2, 0.3)\n",
    "    model = Net2(data.x.shape[1], 512, 2).to(device)\n",
    "    loss_fn = torch.nn.L1Loss()\n",
    "    model.reset_parameters()\n",
    "    optimizer = torch.optim.Adam(model.parameters(), lr=0.01, weight_decay=5e-4)\n",
    "    all_loss = []\n",
    "    avg_time = 0\n",
    "    for run in range(20):\n",
    "        best_val_loss = 100000\n",
    "        model.reset_parameters()\n",
    "        data = data.to(device)\n",
    "        for epoch in range(100):\n",
    "            model.train()\n",
    "            optimizer.zero_grad()\n",
    "            out = model(data.x, data.edge_index)\n",
    "            loss = loss_fn(out[data.train_mask].view(-1, 1), data.y[data.train_mask].view(-1, 1))\n",
    "            loss.backward()\n",
    "            optimizer.step()\n",
    "\n",
    "            model.eval()\n",
    "            with torch.no_grad():\n",
    "                out = model(data.x, data.edge_index)\n",
    "                val_loss = loss_fn(out[data.val_mask].view(-1, 1), data.y[data.val_mask].view(-1, 1))\n",
    "                if val_loss < best_val_loss:\n",
    "                    best_val_loss = val_loss\n",
    "                    #save model\n",
    "                    torch.save(model.state_dict(), f'save/node_regr_3/baselines/{dataset_name}_baseline_model.pt')\n",
    "        start = time.time()\n",
    "        out = model(data.x, data.edge_index)\n",
    "        avg_time += time.time() - start\n",
    "        test_loss = loss_fn(out[data.test_mask].view(-1, 1), data.y[data.test_mask].view(-1, 1))\n",
    "        all_loss.append(test_loss.item()/data.y[data.test_mask].std().item())\n",
    "\n",
    "    print(f\"##########{dataset_name}##########\")\n",
    "    print(all_loss)\n",
    "    print(sum(all_loss)/len(all_loss))\n",
    "    print(avg_time/20)\n",
    "    top_loss = sorted(all_loss)[:10]\n",
    "\n",
    "    if not os.path.exists(f\"results_3/baselines.csv\"):\n",
    "        with open(f\"results_3/baelines.csv\", 'w') as f:\n",
    "            f.write('dataset,hidden,runs,num_layers,lr,top_10_loss,best_loss\\n')\n",
    "\n",
    "    with open(f\"results_3/baselines.csv\", 'a') as f:\n",
    "        f.write(f\"{dataset_name},512,20,2,0.01,{np.mean(top_loss)} +/- {np.std(top_loss)},{top_loss[0]}\\n\")"
   ]
  }
 ],
 "metadata": {
  "kernelspec": {
   "display_name": ".venv",
   "language": "python",
   "name": "python3"
  },
  "language_info": {
   "codemirror_mode": {
    "name": "ipython",
    "version": 3
   },
   "file_extension": ".py",
   "mimetype": "text/x-python",
   "name": "python",
   "nbconvert_exporter": "python",
   "pygments_lexer": "ipython3",
   "version": "3.10.11"
  }
 },
 "nbformat": 4,
 "nbformat_minor": 2
}
